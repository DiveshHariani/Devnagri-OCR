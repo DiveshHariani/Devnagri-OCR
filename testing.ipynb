{
  "nbformat": 4,
  "nbformat_minor": 0,
  "metadata": {
    "colab": {
      "name": "testing.ipynb",
      "provenance": [],
      "collapsed_sections": []
    },
    "kernelspec": {
      "name": "python3",
      "display_name": "Python 3"
    },
    "accelerator": "GPU"
  },
  "cells": [
    {
      "cell_type": "code",
      "metadata": {
        "id": "Pvege7HXJ6W8",
        "colab": {
          "base_uri": "https://localhost:8080/"
        },
        "outputId": "80c3d2a2-d564-4256-8e48-702e493bed76"
      },
      "source": [
        "!pip install easyocr"
      ],
      "execution_count": null,
      "outputs": [
        {
          "output_type": "stream",
          "text": [
            "Requirement already satisfied: easyocr in /usr/local/lib/python3.6/dist-packages (1.1.10)\n",
            "Requirement already satisfied: Pillow in /usr/local/lib/python3.6/dist-packages (from easyocr) (7.0.0)\n",
            "Requirement already satisfied: torchvision>=0.5 in /usr/local/lib/python3.6/dist-packages (from easyocr) (0.8.1+cu101)\n",
            "Requirement already satisfied: numpy in /usr/local/lib/python3.6/dist-packages (from easyocr) (1.18.5)\n",
            "Requirement already satisfied: scipy in /usr/local/lib/python3.6/dist-packages (from easyocr) (1.4.1)\n",
            "Requirement already satisfied: torch in /usr/local/lib/python3.6/dist-packages (from easyocr) (1.7.0+cu101)\n",
            "Requirement already satisfied: opencv-python in /usr/local/lib/python3.6/dist-packages (from easyocr) (4.1.2.30)\n",
            "Requirement already satisfied: python-bidi in /usr/local/lib/python3.6/dist-packages (from easyocr) (0.4.2)\n",
            "Requirement already satisfied: scikit-image in /usr/local/lib/python3.6/dist-packages (from easyocr) (0.16.2)\n",
            "Requirement already satisfied: typing-extensions in /usr/local/lib/python3.6/dist-packages (from torch->easyocr) (3.7.4.3)\n",
            "Requirement already satisfied: dataclasses in /usr/local/lib/python3.6/dist-packages (from torch->easyocr) (0.7)\n",
            "Requirement already satisfied: future in /usr/local/lib/python3.6/dist-packages (from torch->easyocr) (0.16.0)\n",
            "Requirement already satisfied: six in /usr/local/lib/python3.6/dist-packages (from python-bidi->easyocr) (1.15.0)\n",
            "Requirement already satisfied: networkx>=2.0 in /usr/local/lib/python3.6/dist-packages (from scikit-image->easyocr) (2.5)\n",
            "Requirement already satisfied: imageio>=2.3.0 in /usr/local/lib/python3.6/dist-packages (from scikit-image->easyocr) (2.4.1)\n",
            "Requirement already satisfied: matplotlib!=3.0.0,>=2.0.0 in /usr/local/lib/python3.6/dist-packages (from scikit-image->easyocr) (3.2.2)\n",
            "Requirement already satisfied: PyWavelets>=0.4.0 in /usr/local/lib/python3.6/dist-packages (from scikit-image->easyocr) (1.1.1)\n",
            "Requirement already satisfied: decorator>=4.3.0 in /usr/local/lib/python3.6/dist-packages (from networkx>=2.0->scikit-image->easyocr) (4.4.2)\n",
            "Requirement already satisfied: kiwisolver>=1.0.1 in /usr/local/lib/python3.6/dist-packages (from matplotlib!=3.0.0,>=2.0.0->scikit-image->easyocr) (1.3.1)\n",
            "Requirement already satisfied: pyparsing!=2.0.4,!=2.1.2,!=2.1.6,>=2.0.1 in /usr/local/lib/python3.6/dist-packages (from matplotlib!=3.0.0,>=2.0.0->scikit-image->easyocr) (2.4.7)\n",
            "Requirement already satisfied: python-dateutil>=2.1 in /usr/local/lib/python3.6/dist-packages (from matplotlib!=3.0.0,>=2.0.0->scikit-image->easyocr) (2.8.1)\n",
            "Requirement already satisfied: cycler>=0.10 in /usr/local/lib/python3.6/dist-packages (from matplotlib!=3.0.0,>=2.0.0->scikit-image->easyocr) (0.10.0)\n"
          ],
          "name": "stdout"
        }
      ]
    },
    {
      "cell_type": "markdown",
      "metadata": {
        "id": "4Wdq1fX3rr6x"
      },
      "source": [
        "Importing Libraries"
      ]
    },
    {
      "cell_type": "code",
      "metadata": {
        "id": "UxeuyFGsKAFq"
      },
      "source": [
        "import matplotlib.pyplot as plt\n",
        "import cv2\n",
        "import easyocr\n",
        "from pylab import rcParams\n",
        "from IPython.display import Image"
      ],
      "execution_count": null,
      "outputs": []
    },
    {
      "cell_type": "code",
      "metadata": {
        "id": "_s64rJSbKO2N"
      },
      "source": [
        "rcParams['figure.figsize'] = 8, 16"
      ],
      "execution_count": null,
      "outputs": []
    },
    {
      "cell_type": "markdown",
      "metadata": {
        "id": "cjzIV9ZRryrc"
      },
      "source": [
        "mr= Marathi,\n",
        "hi= Hindi,\n",
        "en= English\n",
        "Models are getting loaded to read 3 languages"
      ]
    },
    {
      "cell_type": "code",
      "metadata": {
        "id": "iEVH2hEsKSvA"
      },
      "source": [
        "reader = easyocr.Reader(['mr','hi','en'])"
      ],
      "execution_count": null,
      "outputs": []
    },
    {
      "cell_type": "markdown",
      "metadata": {
        "id": "UjeV53wZsCj_"
      },
      "source": [
        "Filename is getting set\n"
      ]
    },
    {
      "cell_type": "code",
      "metadata": {
        "id": "3jbtpdh3KVx1"
      },
      "source": [
        "file_name = \"Capture.JPG\""
      ],
      "execution_count": null,
      "outputs": []
    },
    {
      "cell_type": "markdown",
      "metadata": {
        "id": "h3WTWi5BsId2"
      },
      "source": [
        "Tried removing watermark to increase readability for OCR"
      ]
    },
    {
      "cell_type": "code",
      "metadata": {
        "colab": {
          "base_uri": "https://localhost:8080/",
          "height": 398
        },
        "id": "8briqeuJWXRO",
        "outputId": "3e8199c0-fca2-46a9-bbc0-8965d7164356"
      },
      "source": [
        "import cv2\n",
        "image = cv2.imread(file_name)\n",
        "print(type(image))\n",
        "plt.imshow(image)\n",
        "\n",
        "#tweaking with contrast and brightness to remove watermark\n",
        "import numpy as np\n",
        "\n",
        "alpha = 4.0\n",
        "beta = -400\n",
        "new = alpha * image + beta\n",
        "new = np.clip(new, 0, 255).astype(np.uint8)\n",
        "plt.imshow(new)\n",
        "\n",
        "from PIL import Image\n",
        "new_image = Image.fromarray(new)\n",
        "print(type(new_image))\n",
        "new_image.save(\"new.jpg\")"
      ],
      "execution_count": null,
      "outputs": [
        {
          "output_type": "stream",
          "text": [
            "<class 'numpy.ndarray'>\n",
            "<class 'PIL.Image.Image'>\n"
          ],
          "name": "stdout"
        },
        {
          "output_type": "display_data",
          "data": {
            "image/png": "[encoded data removed]",
            "text/plain": [
              "<Figure size 576x1152 with 1 Axes>"
            ]
          },
          "metadata": {
            "tags": [],
            "needs_background": "light"
          }
        }
      ]
    },
    {
      "cell_type": "markdown",
      "metadata": {
        "id": "iOYlnqvysQpb"
      },
      "source": [
        "First attempt at reading data"
      ]
    },
    {
      "cell_type": "code",
      "metadata": {
        "id": "8S-bJ8FHLL90"
      },
      "source": [
        "output = reader.readtext(\"Capture.JPG\", detail=1, text_threshold=0.1, paragraph=False, add_margin=0.2)"
      ],
      "execution_count": null,
      "outputs": []
    },
    {
      "cell_type": "markdown",
      "metadata": {
        "id": "YSGcNCATsYRK"
      },
      "source": [
        "Second attempt at reading data\n"
      ]
    },
    {
      "cell_type": "code",
      "metadata": {
        "id": "K6N2scPcoUJg"
      },
      "source": [
        "newOutput = reader.readtext(\"Capture.JPG\", detail=1, text_threshold=0.5, paragraph=False, low_text=0.18, add_margin=0.1,height_ths=0.8,mag_ratio=0.85)"
      ],
      "execution_count": null,
      "outputs": []
    },
    {
      "cell_type": "code",
      "metadata": {
        "id": "_m5nPFsTLZ1h",
        "colab": {
          "base_uri": "https://localhost:8080/"
        },
        "outputId": "2b134826-def2-4fd2-e80c-270879d10743"
      },
      "source": [
        "output"
      ],
      "execution_count": null,
      "outputs": [
        {
          "output_type": "execute_result",
          "data": {
            "text/plain": [
              "[([[14, 8], [68, 8], [68, 22], [14, 22]], '11/17!2020', 0.6685842275619507),\n",
              " ([[402, 10], [426, 10], [426, 26], [402, 26]], '७ १२', 0.6132725477218628),\n",
              " ([[298.21114561800016, 22.422291236000337],\n",
              "   [338.8614535721131, 29.9563638994289],\n",
              "   [334.78885438199984, 49.57770876399967],\n",
              "   [294.1385464278869, 42.0436361005711]],\n",
              "  'जिल्हा :',\n",
              "  0.1733076423406601),\n",
              " ([[54, 25], [113, 25], [113, 49], [54, 49]], 'अंबिकापूर', 0.1326557993888855),\n",
              " ([[24, 30], [48, 30], [48, 44], [24, 44]], 'गाव', 0.5564720630645752),\n",
              " ([[162, 30], [202, 30], [202, 48], [162, 48]], 'तालुका ', 0.2852241098880768),\n",
              " ([[210, 30], [258, 30], [258, 46], [210, 46]], 'खामगाव', 0.7653355002403259),\n",
              " ([[342, 30], [392, 30], [392, 48], [342, 48]],\n",
              "  'बुलडाणा',\n",
              "  0.38419127464294434),\n",
              " ([[90, 41], [173, 41], [173, 65], [90, 65]],\n",
              "  'उपविभाग : १०',\n",
              "  0.47706615924835205),\n",
              " ([[21, 43], [85, 43], [85, 65], [21, 65]], 'गट क्रमाक', 0.21917912364006042),\n",
              " ([[187, 80], [319, 80], [319, 104], [187, 104]],\n",
              "  'पजाबराव शकर पानझाडे',\n",
              "  0.20603662729263306),\n",
              " ([[111, 81], [179, 81], [179, 103], [111, 103]],\n",
              "  'हे.आर.चौ॰मी',\n",
              "  0.06964550912380219),\n",
              " ([[32, 84], [84, 84], [84, 100], [32, 100]],\n",
              "  'क्षेत्र एकक',\n",
              "  0.06596972048282623),\n",
              " ([[332, 84], [376, 84], [376, 100], [332, 100]],\n",
              "  '0.40.00',\n",
              "  0.8323574066162109),\n",
              " ([[384, 84], [410, 84], [410, 100], [384, 100]], '0.41', 0.7582928538322449),\n",
              " ([[464, 84], [510, 84], [510, 102], [464, 102]],\n",
              "  '(1357)',\n",
              "  0.22048327326774597),\n",
              " ([[512, 84], [594, 84], [594, 102], [512, 102]],\n",
              "  '133. [255], 547',\n",
              "  0.2935382127761841),\n",
              " ([[514, 97], [581, 97], [581, 121], [514, 121]],\n",
              "  'कुळाचे नाव',\n",
              "  0.32322755455970764),\n",
              " ([[32, 100], [74, 100], [74, 118], [32, 118]], 'जिरायत', 0.15181288123130798),\n",
              " ([[112, 102], [156, 102], [156, 118], [112, 118]],\n",
              "  '0.98.00',\n",
              "  0.7816388010978699),\n",
              " ([[187, 117], [287, 117], [287, 139], [187, 139]],\n",
              "  '[ शे.युसुफ शे.हसन',\n",
              "  0.1669883280992508),\n",
              " ([[515, 117], [593, 117], [593, 139], [515, 139]],\n",
              "  'इतर अधिकार',\n",
              "  0.0988793894648552),\n",
              " ([[32, 120], [74, 120], [74, 136], [32, 136]], 'बागायत', 0.41785290837287903),\n",
              " ([[332, 120], [376, 120], [376, 136], [332, 136]],\n",
              "  '0.58.00',\n",
              "  0.8894926309585571),\n",
              " ([[384, 120], [412, 120], [412, 138], [384, 138]],\n",
              "  '0.59',\n",
              "  0.6733183860778809),\n",
              " ([[418, 120], [502, 120], [502, 138], [418, 138]],\n",
              "  '0.2500 ](2518',\n",
              "  0.284463107585907),\n",
              " ([[520, 132], [710, 132], [710, 160], [520, 160]],\n",
              "  ' बोजा - राष्ट्रीयकृत बैँक गहाणा ( १६५१',\n",
              "  0.0035393894650042057),\n",
              " ([[32, 136], [54, 136], [54, 154], [32, 154]], 'तरी', 0.8708377480506897),\n",
              " ([[187, 153], [289, 153], [289, 177], [187, 177]],\n",
              "  'शे जमीर ग़ुलाम नुर',\n",
              "  0.16177819669246674),\n",
              " ([[32, 158], [70, 158], [70, 172], [32, 172]], 'वरकस', 0.8809643983840942),\n",
              " ([[332, 158], [376, 158], [376, 174], [332, 174]],\n",
              "  '0.58.00',\n",
              "  0.8840529918670654),\n",
              " ([[384, 158], [412, 158], [412, 174], [384, 174]],\n",
              "  '0.59',\n",
              "  0.8490268588066101),\n",
              " ([[422, 158], [464, 158], [464, 174], [422, 174]],\n",
              "  '0.25.00',\n",
              "  0.8838149309158325),\n",
              " ([[468, 158], [506, 158], [506, 174], [468, 174]],\n",
              "  '(302 )',\n",
              "  0.2200665920972824),\n",
              " ([[520, 168], [712, 168], [712, 197], [520, 197]],\n",
              "  'बॅक औं बडोदा शाखा खामगांव ]( १६५१',\n",
              "  0.008442212827503681),\n",
              " ([[32, 176], [58, 176], [58, 192], [32, 192]], 'इतर', 0.9241061210632324),\n",
              " ([[31, 191], [85, 191], [85, 213], [31, 213]],\n",
              "  'एकण क्षेत्र',\n",
              "  0.44554728269577026),\n",
              " ([[112, 194], [154, 194], [154, 210], [112, 210]],\n",
              "  '0.98.00',\n",
              "  0.6117342114448547),\n",
              " ([[521, 207], [699, 207], [699, 231], [521, 231]],\n",
              "  '[कडून ५००० रु कर्ज घेतले. ]( १६५१ )',\n",
              "  0.00593988411128521),\n",
              " ([[26, 209], [179, 209], [179, 232], [26, 232]],\n",
              "  'पोट खराब (लागवडीस अयोग्य)',\n",
              "  0.14530110359191895),\n",
              " ([[519, 223], [716, 223], [716, 251], [519, 251]],\n",
              "  '[रक्कम घेणार शे. युसुफ शे.हसन ]( १६५१',\n",
              "  0.00046972863492555916),\n",
              " ([[32, 230], [70, 230], [70, 246], [32, 246]],\n",
              "  'वर्ग (ओ)',\n",
              "  0.05896146222949028),\n",
              " ([[112, 230], [154, 230], [154, 248], [112, 248]],\n",
              "  '0.25.00',\n",
              "  0.4674505591392517),\n",
              " ([[32, 248], [70, 248], [70, 264], [32, 264]], 'वर्ग ब', 0.07735761255025864),\n",
              " ([[551, 262], [665, 262], [665, 285], [551, 285]],\n",
              "  'राष्ट्रीयकृत बैँक गहाण',\n",
              "  0.020870806649327278),\n",
              " ([[516, 264], [548, 264], [548, 282], [516, 282]],\n",
              "  'बोजा ',\n",
              "  0.5263193249702454),\n",
              " ([[26, 265], [89, 265], [89, 287], [26, 287]],\n",
              "  'एकुण पो ख',\n",
              "  0.2794146239757538),\n",
              " ([[112, 268], [154, 268], [154, 286], [112, 286]],\n",
              "  '0.25.00',\n",
              "  0.3426891565322876),\n",
              " ([[519, 277], [717, 277], [717, 301], [519, 301]],\n",
              "  'बॅक ऑफ बडोदा शाखा खामगांत ( २१९६',\n",
              "  0.005105677060782909),\n",
              " ([[32, 286], [82, 286], [82, 302], [32, 302]], 'आकारणी', 0.757483720779419),\n",
              " ([[52.13701426866951, 298.46032711047206],\n",
              "   [86.76971098192499, 304.6623606193169],\n",
              "   [82.86298573133048, 324.53967288952794],\n",
              "   [48.23028901807501, 318.3376393806831]],\n",
              "  'किँठा |',\n",
              "  0.01634807512164116),\n",
              " ([[79, 301], [115, 301], [115, 323], [79, 323]],\n",
              "  'विशेष ',\n",
              "  0.3616626560688019),\n",
              " ([[29, 303], [55, 303], [55, 325], [29, 325]], 'जुडी', 0.31319379806518555),\n",
              " ([[567, 315], [699, 315], [699, 337], [567, 337]],\n",
              "  'कर्ज घेतले ता.२0/6/20१२ (',\n",
              "  0.024458827450871468),\n",
              " ([[26, 320], [76, 320], [76, 338], [26, 338]], 'आकारणी', 0.8980386853218079),\n",
              " ([[522, 320], [560, 320], [560, 336], [522, 336]],\n",
              "  '10००० ',\n",
              "  0.18142594397068024),\n",
              " ([[506, 336], [538, 336], [538, 354], [506, 354]],\n",
              "  '2196',\n",
              "  0.19345253705978394),\n",
              " ([[586.1370142686695, 349.46032711047206],\n",
              "   [638.9159216789504, 356.184182983552],\n",
              "   [634.8629857313305, 375.53967288952794],\n",
              "   [583.0840783210496, 367.815817016448]],\n",
              "  'पंजाबराव ',\n",
              "  0.19327977299690247),\n",
              " ([[522, 352], [588, 352], [588, 370], [522, 370]],\n",
              "  'रक्कम घेणार',\n",
              "  0.4067477285861969),\n",
              " ([[634, 354], [708, 354], [708, 372], [634, 372]],\n",
              "  'शंकर पानझाडे',\n",
              "  0.4052375257015228),\n",
              " ([[506, 374], [538, 374], [538, 390], [506, 390]],\n",
              "  '2196',\n",
              "  0.6395909190177917),\n",
              " ([[92, 380], [526, 380], [526, 508], [92, 508]],\n",
              "  'ईमहाभूमि',\n",
              "  0.02061343379318714),\n",
              " ([[178, 386], [320, 386], [320, 414], [178, 414]],\n",
              "  'भूमिअभिलेख निर्णयात्',\n",
              "  0.05127406120300293),\n",
              " ([[551, 389], [665, 389], [665, 411], [551, 411]],\n",
              "  'राष्ट्रीयकृत बैँक गहाण',\n",
              "  0.01248119119554758),\n",
              " ([[516, 390], [548, 390], [548, 408], [516, 408]],\n",
              "  'बोजा ',\n",
              "  0.2620803415775299),\n",
              " ([[519, 405], [717, 405], [717, 429], [519, 429]],\n",
              "  'बॅक औफ बडोदा शाखा खामगांव ( २२९६',\n",
              "  0.011281391605734825),\n",
              " ([[522, 444], [694, 444], [694, 462], [522, 462]],\n",
              "  '४४००० रु कर्ज घेतले ता.16/12/2012',\n",
              "  0.04548347368836403),\n",
              " ([[506, 464], [530, 464], [530, 480], [506, 480]], '229', 0.3707508146762848),\n",
              " ([[522, 480], [708, 480], [708, 498], [522, 498]],\n",
              "  'रक्कम घेणार पंजाबराव शंकर पानझाडे',\n",
              "  0.0299176387488842),\n",
              " ([[506, 500], [538, 500], [538, 516], [506, 516]],\n",
              "  '2296',\n",
              "  0.5359087586402893)]"
            ]
          },
          "metadata": {
            "tags": []
          },
          "execution_count": 167
        }
      ]
    },
    {
      "cell_type": "code",
      "metadata": {
        "id": "PguiMUW5L9FE",
        "colab": {
          "base_uri": "https://localhost:8080/",
          "height": 534
        },
        "outputId": "1f45bf7a-a8d8-423e-bfd3-aedacd5fde14"
      },
      "source": [
        "Image(\"Capture.JPG\")"
      ],
      "execution_count": null,
      "outputs": [
        {
          "output_type": "execute_result",
          "data": {
            "image/jpeg": "[encoded data removed]",
            "text/plain": [
              "<IPython.core.display.Image object>"
            ]
          },
          "metadata": {
            "tags": []
          },
          "execution_count": 18
        }
      ]
    },
    {
      "cell_type": "code",
      "metadata": {
        "id": "_hCvYPiRNauX",
        "colab": {
          "base_uri": "https://localhost:8080/"
        },
        "outputId": "d0981c0a-7afd-4858-8b75-336707b13829"
      },
      "source": [
        "\n",
        "help(reader.readtext)"
      ],
      "execution_count": null,
      "outputs": [
        {
          "output_type": "stream",
          "text": [
            "Help on method readtext in module easyocr.easyocr:\n",
            "\n",
            "readtext(image, decoder='greedy', beamWidth=5, batch_size=1, workers=0, allowlist=None, blocklist=None, detail=1, paragraph=False, min_size=20, contrast_ths=0.1, adjust_contrast=0.5, filter_ths=0.003, text_threshold=0.7, low_text=0.4, link_threshold=0.4, canvas_size=2560, mag_ratio=1.0, slope_ths=0.1, ycenter_ths=0.5, height_ths=0.5, width_ths=0.5, add_margin=0.1) method of easyocr.easyocr.Reader instance\n",
            "    Parameters:\n",
            "    image: file path or numpy-array or a byte stream object\n",
            "\n"
          ],
          "name": "stdout"
        }
      ]
    },
    {
      "cell_type": "code",
      "metadata": {
        "id": "5AMy-2AKPOF3",
        "colab": {
          "base_uri": "https://localhost:8080/"
        },
        "outputId": "f01cb7cd-6684-401b-bac5-38e5d77d8e58"
      },
      "source": [
        "help(reader)"
      ],
      "execution_count": null,
      "outputs": [
        {
          "output_type": "stream",
          "text": [
            "Help on Reader in module easyocr.easyocr object:\n",
            "\n",
            "class Reader(builtins.object)\n",
            " |  Methods defined here:\n",
            " |  \n",
            " |  __init__(self, lang_list, gpu=True, model_storage_directory=None, download_enabled=True, detector=True, recognizer=True)\n",
            " |      Create an EasyOCR Reader.\n",
            " |      \n",
            " |      Parameters:\n",
            " |          lang_list (list): Language codes (ISO 639) for languages to be recognized during analysis.\n",
            " |      \n",
            " |          gpu (bool): Enable GPU support (default)\n",
            " |      \n",
            " |          model_storage_directory (string): Path to directory for model data. If not specified,\n",
            " |          models will be read from a directory as defined by the environment variable\n",
            " |          EASYOCR_MODULE_PATH (preferred), MODULE_PATH (if defined), or ~/.EasyOCR/.\n",
            " |      \n",
            " |          download_enabled (bool): Enabled downloading of model data via HTTP (default).\n",
            " |  \n",
            " |  detect(self, img, min_size=20, text_threshold=0.7, low_text=0.4, link_threshold=0.4, canvas_size=2560, mag_ratio=1.0, slope_ths=0.1, ycenter_ths=0.5, height_ths=0.5, width_ths=0.5, add_margin=0.1, reformat=True)\n",
            " |  \n",
            " |  getChar(self, fileName)\n",
            " |  \n",
            " |  readtext(self, image, decoder='greedy', beamWidth=5, batch_size=1, workers=0, allowlist=None, blocklist=None, detail=1, paragraph=False, min_size=20, contrast_ths=0.1, adjust_contrast=0.5, filter_ths=0.003, text_threshold=0.7, low_text=0.4, link_threshold=0.4, canvas_size=2560, mag_ratio=1.0, slope_ths=0.1, ycenter_ths=0.5, height_ths=0.5, width_ths=0.5, add_margin=0.1)\n",
            " |      Parameters:\n",
            " |      image: file path or numpy-array or a byte stream object\n",
            " |  \n",
            " |  recognize(self, img_cv_grey, horizontal_list=None, free_list=None, decoder='greedy', beamWidth=5, batch_size=1, workers=0, allowlist=None, blocklist=None, detail=1, paragraph=False, contrast_ths=0.1, adjust_contrast=0.5, filter_ths=0.003, reformat=True)\n",
            " |  \n",
            " |  setModelLanguage(self, language, lang_list, list_lang, list_lang_string)\n",
            " |  \n",
            " |  ----------------------------------------------------------------------\n",
            " |  Data descriptors defined here:\n",
            " |  \n",
            " |  __dict__\n",
            " |      dictionary for instance variables (if defined)\n",
            " |  \n",
            " |  __weakref__\n",
            " |      list of weak references to the object (if defined)\n",
            "\n"
          ],
          "name": "stdout"
        }
      ]
    },
    {
      "cell_type": "code",
      "metadata": {
        "id": "RnIX6-6vPSIc"
      },
      "source": [
        ""
      ],
      "execution_count": null,
      "outputs": []
    },
    {
      "cell_type": "code",
      "metadata": {
        "id": "BgWKvudSPp93"
      },
      "source": [
        "class TextCoordinates:\n",
        "  def __init__(self, x1, y1, x2, y2, x3, y3, x4, y4, text):\n",
        "    self.x1 = x1\n",
        "    self.y1 = y1\n",
        "    self.x2 = x2\n",
        "    self.y2 = y2\n",
        "    self.x3 = x3\n",
        "    self.y3 = y3\n",
        "    self.x4 = x4\n",
        "    self.y4 = y4\n",
        "    self.text = text"
      ],
      "execution_count": null,
      "outputs": []
    },
    {
      "cell_type": "markdown",
      "metadata": {
        "id": "HPEFOfpjsgeB"
      },
      "source": [
        "Extracting text from output variable"
      ]
    },
    {
      "cell_type": "code",
      "metadata": {
        "colab": {
          "base_uri": "https://localhost:8080/",
          "height": 35
        },
        "id": "LkqKIlElkiBk",
        "outputId": "8691987e-8bd1-4ccd-f8aa-6bd93d71760d"
      },
      "source": [
        "coordinate_index, text_index = 0, 1\n",
        "cordinates = output[0][coordinate_index]\n",
        "text = output[0][text_index]\n",
        "text"
      ],
      "execution_count": null,
      "outputs": [
        {
          "output_type": "execute_result",
          "data": {
            "application/vnd.google.colaboratory.intrinsic+json": {
              "type": "string"
            },
            "text/plain": [
              "'11/18/2020'"
            ]
          },
          "metadata": {
            "tags": []
          },
          "execution_count": 165
        }
      ]
    },
    {
      "cell_type": "markdown",
      "metadata": {
        "id": "kQy55L7Fsmtw"
      },
      "source": [
        "Making a dictionary with text as key and coordinates as it value"
      ]
    },
    {
      "cell_type": "code",
      "metadata": {
        "colab": {
          "base_uri": "https://localhost:8080/"
        },
        "id": "aicnPcyWk1TE",
        "outputId": "901e5346-0312-41a2-a905-3de1ee326aaa"
      },
      "source": [
        "text_dict = {}\n",
        "text_dict2 ={}\n",
        "for element in output:\n",
        "  text_dict[element[text_index]] = element[coordinate_index]\n",
        "  text_dict2[element[text_index]] = element[coordinate_index][0]\n",
        "print(text_dict)"
      ],
      "execution_count": null,
      "outputs": [
        {
          "output_type": "stream",
          "text": [
            "{'11/18/2020': [[68, 38], [188, 38], [188, 68], [68, 68]], '७१२': [[918, 44], [972, 44], [972, 74], [918, 74]], 'अहवाल दिनांक': [[1228, 156], [1422, 156], [1422, 200], [1228, 200]], '18/11/2020': [[1449, 158], [1614, 158], [1614, 201], [1449, 201]], 'गाव नमुना सात': [[750, 234], [954, 234], [954, 276], [750, 276]], 'अधिकार अभिलेख पत्रक': [[694, 266], [996, 266], [996, 312], [694, 312]], '( तयार करणे व सुस्थितीत ठेवणे': [[824, 298], [1234, 298], [1234, 357], [824, 357]], '[ महाराष्ट्र जमीन महसूल अधिकार अभिलेख आणि नोंदवह्या': [[105, 300], [830, 300], [830, 363], [105, 363]], ') नियम, १९७१ यातील नियम': [[1231, 303], [1604, 303], [1604, 356], [1231, 356]], '३,५६ आणि ७': [[733, 345], [939, 345], [939, 395], [733, 395]], ']': [[942, 358], [964, 358], [964, 390], [942, 390]], 'ठाणे': [[813, 415], [884, 415], [884, 466], [813, 466]], 'भिवंडी': [[522, 416], [618, 416], [618, 462], [522, 462]], 'जिल्हा': [[689, 417], [776, 417], [776, 467], [689, 467]], 'तालुका': [[392, 426], [482, 426], [482, 468], [392, 468]], 'एकसाल': [[191, 427], [297, 427], [297, 465], [191, 465]], 'गाव': [[92, 428], [142, 428], [142, 458], [92, 458]], 'भुमापन क्रमांक व उपविभाग': [[107, 459], [457, 459], [457, 509], [107, 509]], '1/1': [[231, 625], [287, 625], [287, 661], [231, 661]], 'भोगवटादाराचे नांव': [[934, 536], [1169, 536], [1169, 586], [934, 586]], 'भुमापन क्रमांक व': [[156, 540], [378, 540], [378, 586], [156, 586]], 'पध्दती': [[538.6574839128131, 540.6437097820327], [626.9173586221851, 537.7203466907107], [625.3425160871869, 582.3562902179673], [537.0826413778149, 586.2796533092893]], 'भू- धारणा': [[418, 544], [540, 544], [540, 588], [418, 588]], 'उपविभाग': [[195, 576], [322, 576], [322, 622], [195, 622]], 'भोगवटादार वर्ग': [[420, 646], [624, 646], [624, 702], [420, 702]], '-1': [[502, 702], [538, 702], [538, 730], [502, 730]], 'आकार   पो॰ख॰': [[865, 799], [1052, 799], [1052, 852], [865, 852]], 'खाते क्रमांक': [[1295, 801], [1461, 801], [1461, 850], [1295, 850]], 'फे.फा': [[1062, 802], [1152, 802], [1152, 848], [1062, 848]], 'क्षेत्र': [[127, 891], [173, 891], [173, 929], [127, 929]], 'शेताचे स्थानिक': [[107, 809], [255, 809], [255, 847], [107, 847]], 'नांव': [[255.77165594187537, 810.4291398546884], [302.5424526814298, 817.7019098637974], [297.2283440581246, 846.5708601453116], [250.4575473185702, 839.2980901362026]], 'हे.आर॰चौ॰मी॰ राईबाई कोंडू सोनावणे': [[280, 880], [740, 880], [740, 938], [280, 938]], '248': [[1081, 1211], [1135, 1211], [1135, 1247], [1081, 1247]], 'एकक': [[176, 896], [246, 896], [246, 926], [176, 926]], '329': [[1182, 896], [1236, 896], [1236, 928], [1182, 928]], 'गोपिका कोंडू सोनावणे': [[485, 923], [746, 923], [746, 975], [485, 975]], 'जिरायत': [[122, 926], [220, 926], [220, 968], [122, 968]], 'कुळाचे': [[1193.5384615384614, 928.6923076923077], [1288.9493117733198, 922.7799949845339], [1287.4615384615386, 969.3076923076923], [1192.0506882266802, 974.2200050154661]], 'नाव': [[1287, 931], [1345, 931], [1345, 967], [1287, 967]], '0': [[286, 1136], [312, 1136], [312, 1164], [286, 1164]], '९० . 8०': [[316, 1136], [400, 1136], [400, 1168], [316, 1168]], '५': [[270, 948], [410, 948], [410, 1106], [270, 1106]], 'पुंडलिक कोंडू सोनावणे': [[482, 960], [756, 960], [756, 1016], [482, 1016]], 'इतर अधिकार': [[1193, 963], [1371, 963], [1371, 1013], [1193, 1013]], 'बागायत': [[126, 974], [216, 974], [216, 1006], [126, 1006]], 'लडकू कोंडू': [[486, 1000], [633, 1000], [633, 1057], [486, 1057]], 'तरी': [[122, 1002], [176, 1002], [176, 1048], [122, 1048]], 'सोनावणे': [[444, 1560], [544, 1560], [544, 1604], [444, 1604]], 'गणपत कोंडू सोनावणे': [[485, 1043], [739, 1043], [739, 1095], [485, 1095]], 'वरकस': [[126, 1054], [206, 1054], [206, 1084], [126, 1084]], 'लक्ष्मी सदू पाटील': [[485, 1083], [693, 1083], [693, 1135], [485, 1135]], '( 248': [[1067, 1091], [1135, 1091], [1135, 1127], [1067, 1127]], 'इतर': [[125, 1093], [185, 1093], [185, 1129], [125, 1129]], 'इंदू कोंडू सोनावणे': [[485, 1120], [701, 1120], [701, 1173], [485, 1173]], 'एकुण _ क्षेत्र': [[121, 1127], [249, 1127], [249, 1177], [121, 1177]], 'नरेश कोंडू सोनावणे': [[487, 1161], [721, 1161], [721, 1213], [487, 1213]], 'पोट-खराब ( लागवडीस': [[109, 1165], [375, 1165], [375, 1215], [109, 1215]], 'सिंधु कोंडू सोनावणे': [[482, 1197], [713, 1197], [713, 1254], [482, 1254]], 'अयोग्य )': [[94, 1206], [195, 1206], [195, 1252], [94, 1252]], '0ळब५': [[755, 1219], [1021, 1219], [1021, 1375], [755, 1375]], 'लक्ष्मण काळू सोनावणे': [[485, 1241], [743, 1241], [743, 1293], [485, 1293]], 'वर्ग (अ)': [[121, 1243], [235, 1243], [235, 1295], [121, 1295]], '344 )': [[1082, 1450], [1148, 1450], [1148, 1482], [1082, 1482]], '0 .02 . 20': [[286, 1256], [402, 1256], [402, 1288], [286, 1288]], ' सोनावणे /': [[622, 1272], [758, 1272], [758, 1328], [622, 1328]], 'वर्ग': [[119, 1281], [175, 1281], [175, 1333], [119, 1333]], '| यमुना काळू': [[463, 1281], [635, 1281], [635, 1333], [463, 1333]], '': [[370, 1286], [400, 1286], [400, 1314], [370, 1314]], '( 344 )': [[1065, 1289], [1149, 1289], [1149, 1327], [1065, 1327]], 'ब': [[186, 1292], [230, 1292], [230, 1334], [186, 1334]], 'लड्कूबाई': [[481, 1315], [609, 1315], [609, 1380], [481, 1380]], 'पे': [[182, 1328], [222, 1328], [222, 1370], [182, 1370]], 'काळू': [[602, 1328], [674, 1328], [674, 1372], [602, 1372]], '344': [[1081, 1329], [1135, 1329], [1135, 1365], [1081, 1365]], ')': [[1128, 1334], [1148, 1334], [1148, 1364], [1128, 1364]], 'एकुण': [[110, 1334], [184, 1334], [184, 1380], [110, 1380]], 'ख': [[224, 1336], [256, 1336], [256, 1368], [224, 1368]], '0 .0२ . 2०': [[286, 1336], [400, 1336], [400, 1368], [286, 1368]], 'आकारणी': [[125, 1367], [239, 1367], [239, 1411], [125, 1411]], '0 .9९': [[286, 1380], [354, 1380], [354, 1410], [286, 1410]], 'ताराबाई काळू सोनावणे': [[484, 1393], [757, 1393], [757, 1452], [484, 1452]], 'जुडी किंवा': [[106, 1407], [241, 1407], [241, 1458], [106, 1458]], 'सुंदरीबाई काळू': [[483, 1434], [672, 1434], [672, 1492], [483, 1492]], 'विशेष आकारणी': [[93, 1445], [288, 1445], [288, 1498], [93, 1498]], 'सिताबाई रामचंद्र': [[500, 1518], [696, 1518], [696, 1564], [500, 1564]], '880 )': [[1082, 1846], [1148, 1846], [1148, 1878], [1082, 1878]], '[ रामचंद्र काळू': [[489, 1599], [677, 1599], [677, 1649], [489, 1649]], '0.90.80': [[766, 1608], [858, 1608], [858, 1638], [766, 1638]], 'नावणे': [[468, 1640], [544, 1640], [544, 1682], [468, 1682]], 'वसंत रामचंद्र सोनावणे': [[486, 1676], [744, 1676], [744, 1722], [486, 1722]], 'सुरेश रामचंद्र सोनावणे': [[485, 1715], [746, 1715], [746, 1767], [485, 1767]], 'वनीता वसंत पाटील': [[486, 1756], [714, 1756], [714, 1800], [486, 1800]], 'रविंद्र रामचंद्र सोनावणे': [[486, 1796], [746, 1796], [746, 1842], [486, 1842]], 'पंडित रामचंद्र सोनावणे': [[486, 1836], [752, 1836], [752, 1882], [486, 1882]], '-सामाईक   क्षेत्र-': [[564, 1876], [748, 1876], [748, 1920], [564, 1920]], '.90.80': [[785, 1883], [861, 1883], [861, 1919], [785, 1919]], '.99': [[901, 1883], [943, 1883], [943, 1919], [901, 1919]], '.20': [[1017, 1883], [1059, 1883], [1059, 1919], [1017, 1919]], '0.': [[882, 1884], [908, 1884], [908, 1916], [882, 1916]], '0.02.': [[964, 1884], [1022, 1884], [1022, 1916], [964, 1916]], 'सीमा आणि भुमापन चिन्हे': [[1162, 1954], [1486, 1954], [1486, 2010], [1162, 2010]], 'फेरफार  क्र॰': [[145, 1959], [286, 1959], [286, 2004], [145, 2004]], '_(119),(344),(468),(796),(847),(869)': [[324, 1962], [860, 1962], [860, 2008], [324, 2008]], '6ऐफ़ड  /२ँधबहरत.फ़ौ+ँधफ़1 ठद  0\"ँ2ू छ९712 _टँू8ड डफ़*': [[67, 2128], [709, 2128], [709, 2164], [67, 2164]], '1/२': [[1592, 2130], [1630, 2130], [1630, 2158], [1592, 2158]]}\n"
          ],
          "name": "stdout"
        }
      ]
    },
    {
      "cell_type": "markdown",
      "metadata": {
        "id": "yPGnrJpqs0L4"
      },
      "source": [
        "Tried implementing a logic where same text at same level at y-axis\n"
      ]
    },
    {
      "cell_type": "code",
      "metadata": {
        "colab": {
          "base_uri": "https://localhost:8080/"
        },
        "id": "hXZHNXsylayc",
        "outputId": "7e15a5ab-4872-4822-dcbd-e78120338817"
      },
      "source": [
        "import math\n",
        "arr = [0]*1000\n",
        "y=25\n",
        "for key, value in text_dict.items():\n",
        "  if abs(10-y) < math.ceil(value[0][1]) < 10 + y:\n",
        "    arr[math.ceil(value[0][0])] = key\n",
        "arr"
      ],
      "execution_count": null,
      "outputs": [
        {
          "output_type": "execute_result",
          "data": {
            "text/plain": [
              "[0,\n",
              " 0,\n",
              " 0,\n",
              " 0,\n",
              " 0,\n",
              " 0,\n",
              " 0,\n",
              " 0,\n",
              " 0,\n",
              " 0,\n",
              " 0,\n",
              " 0,\n",
              " 0,\n",
              " 0,\n",
              " 0,\n",
              " 0,\n",
              " 0,\n",
              " 0,\n",
              " 0,\n",
              " 0,\n",
              " 0,\n",
              " 0,\n",
              " 0,\n",
              " 0,\n",
              " 'गाव',\n",
              " 0,\n",
              " 0,\n",
              " 0,\n",
              " 0,\n",
              " 0,\n",
              " 0,\n",
              " 0,\n",
              " 0,\n",
              " 0,\n",
              " 0,\n",
              " 0,\n",
              " 0,\n",
              " 0,\n",
              " 0,\n",
              " 0,\n",
              " 0,\n",
              " 0,\n",
              " 0,\n",
              " 0,\n",
              " 0,\n",
              " 0,\n",
              " 0,\n",
              " 0,\n",
              " 0,\n",
              " 0,\n",
              " 0,\n",
              " 0,\n",
              " 0,\n",
              " 0,\n",
              " 'अंबिकापूर',\n",
              " 0,\n",
              " 0,\n",
              " 0,\n",
              " 0,\n",
              " 0,\n",
              " 0,\n",
              " 0,\n",
              " 0,\n",
              " 0,\n",
              " 0,\n",
              " 0,\n",
              " 0,\n",
              " 0,\n",
              " 0,\n",
              " 0,\n",
              " 0,\n",
              " 0,\n",
              " 0,\n",
              " 0,\n",
              " 0,\n",
              " 0,\n",
              " 0,\n",
              " 0,\n",
              " 0,\n",
              " 0,\n",
              " 0,\n",
              " 0,\n",
              " 0,\n",
              " 0,\n",
              " 0,\n",
              " 0,\n",
              " 0,\n",
              " 0,\n",
              " 0,\n",
              " 0,\n",
              " 0,\n",
              " 0,\n",
              " 0,\n",
              " 0,\n",
              " 0,\n",
              " 0,\n",
              " 0,\n",
              " 0,\n",
              " 0,\n",
              " 0,\n",
              " 0,\n",
              " 0,\n",
              " 0,\n",
              " 0,\n",
              " 0,\n",
              " 0,\n",
              " 0,\n",
              " 0,\n",
              " 0,\n",
              " 0,\n",
              " 0,\n",
              " 0,\n",
              " 0,\n",
              " 0,\n",
              " 0,\n",
              " 0,\n",
              " 0,\n",
              " 0,\n",
              " 0,\n",
              " 0,\n",
              " 0,\n",
              " 0,\n",
              " 0,\n",
              " 0,\n",
              " 0,\n",
              " 0,\n",
              " 0,\n",
              " 0,\n",
              " 0,\n",
              " 0,\n",
              " 0,\n",
              " 0,\n",
              " 0,\n",
              " 0,\n",
              " 0,\n",
              " 0,\n",
              " 0,\n",
              " 0,\n",
              " 0,\n",
              " 0,\n",
              " 0,\n",
              " 0,\n",
              " 0,\n",
              " 0,\n",
              " 0,\n",
              " 0,\n",
              " 0,\n",
              " 0,\n",
              " 0,\n",
              " 0,\n",
              " 0,\n",
              " 0,\n",
              " 0,\n",
              " 0,\n",
              " 0,\n",
              " 0,\n",
              " 0,\n",
              " 0,\n",
              " 0,\n",
              " 0,\n",
              " 0,\n",
              " 0,\n",
              " 'तालुका ',\n",
              " 0,\n",
              " 0,\n",
              " 0,\n",
              " 0,\n",
              " 0,\n",
              " 0,\n",
              " 0,\n",
              " 0,\n",
              " 0,\n",
              " 0,\n",
              " 0,\n",
              " 0,\n",
              " 0,\n",
              " 0,\n",
              " 0,\n",
              " 0,\n",
              " 0,\n",
              " 0,\n",
              " 0,\n",
              " 0,\n",
              " 0,\n",
              " 0,\n",
              " 0,\n",
              " 0,\n",
              " 0,\n",
              " 0,\n",
              " 0,\n",
              " 0,\n",
              " 0,\n",
              " 0,\n",
              " 0,\n",
              " 0,\n",
              " 0,\n",
              " 0,\n",
              " 0,\n",
              " 0,\n",
              " 0,\n",
              " 0,\n",
              " 0,\n",
              " 0,\n",
              " 0,\n",
              " 0,\n",
              " 0,\n",
              " 0,\n",
              " 0,\n",
              " 0,\n",
              " 0,\n",
              " 'खामगाव',\n",
              " 0,\n",
              " 0,\n",
              " 0,\n",
              " 0,\n",
              " 0,\n",
              " 0,\n",
              " 0,\n",
              " 0,\n",
              " 0,\n",
              " 0,\n",
              " 0,\n",
              " 0,\n",
              " 0,\n",
              " 0,\n",
              " 0,\n",
              " 0,\n",
              " 0,\n",
              " 0,\n",
              " 0,\n",
              " 0,\n",
              " 0,\n",
              " 0,\n",
              " 0,\n",
              " 0,\n",
              " 0,\n",
              " 0,\n",
              " 0,\n",
              " 0,\n",
              " 0,\n",
              " 0,\n",
              " 0,\n",
              " 0,\n",
              " 0,\n",
              " 0,\n",
              " 0,\n",
              " 0,\n",
              " 0,\n",
              " 0,\n",
              " 0,\n",
              " 0,\n",
              " 0,\n",
              " 0,\n",
              " 0,\n",
              " 0,\n",
              " 0,\n",
              " 0,\n",
              " 0,\n",
              " 0,\n",
              " 0,\n",
              " 0,\n",
              " 0,\n",
              " 0,\n",
              " 0,\n",
              " 0,\n",
              " 0,\n",
              " 0,\n",
              " 0,\n",
              " 0,\n",
              " 0,\n",
              " 0,\n",
              " 0,\n",
              " 0,\n",
              " 0,\n",
              " 0,\n",
              " 0,\n",
              " 0,\n",
              " 0,\n",
              " 0,\n",
              " 0,\n",
              " 0,\n",
              " 0,\n",
              " 0,\n",
              " 0,\n",
              " 0,\n",
              " 0,\n",
              " 0,\n",
              " 0,\n",
              " 0,\n",
              " 0,\n",
              " 0,\n",
              " 0,\n",
              " 0,\n",
              " 0,\n",
              " 0,\n",
              " 0,\n",
              " 0,\n",
              " 0,\n",
              " 0,\n",
              " 'जिल्हा :',\n",
              " 0,\n",
              " 0,\n",
              " 0,\n",
              " 0,\n",
              " 0,\n",
              " 0,\n",
              " 0,\n",
              " 0,\n",
              " 0,\n",
              " 0,\n",
              " 0,\n",
              " 0,\n",
              " 0,\n",
              " 0,\n",
              " 0,\n",
              " 0,\n",
              " 0,\n",
              " 0,\n",
              " 0,\n",
              " 0,\n",
              " 0,\n",
              " 0,\n",
              " 0,\n",
              " 0,\n",
              " 0,\n",
              " 0,\n",
              " 0,\n",
              " 0,\n",
              " 0,\n",
              " 0,\n",
              " 0,\n",
              " 0,\n",
              " 0,\n",
              " 0,\n",
              " 0,\n",
              " 0,\n",
              " 0,\n",
              " 0,\n",
              " 0,\n",
              " 0,\n",
              " 0,\n",
              " 0,\n",
              " 'बुलडाणा',\n",
              " 0,\n",
              " 0,\n",
              " 0,\n",
              " 0,\n",
              " 0,\n",
              " 0,\n",
              " 0,\n",
              " 0,\n",
              " 0,\n",
              " 0,\n",
              " 0,\n",
              " 0,\n",
              " 0,\n",
              " 0,\n",
              " 0,\n",
              " 0,\n",
              " 0,\n",
              " 0,\n",
              " 0,\n",
              " 0,\n",
              " 0,\n",
              " 0,\n",
              " 0,\n",
              " 0,\n",
              " 0,\n",
              " 0,\n",
              " 0,\n",
              " 0,\n",
              " 0,\n",
              " 0,\n",
              " 0,\n",
              " 0,\n",
              " 0,\n",
              " 0,\n",
              " 0,\n",
              " 0,\n",
              " 0,\n",
              " 0,\n",
              " 0,\n",
              " 0,\n",
              " 0,\n",
              " 0,\n",
              " 0,\n",
              " 0,\n",
              " 0,\n",
              " 0,\n",
              " 0,\n",
              " 0,\n",
              " 0,\n",
              " 0,\n",
              " 0,\n",
              " 0,\n",
              " 0,\n",
              " 0,\n",
              " 0,\n",
              " 0,\n",
              " 0,\n",
              " 0,\n",
              " 0,\n",
              " 0,\n",
              " 0,\n",
              " 0,\n",
              " 0,\n",
              " 0,\n",
              " 0,\n",
              " 0,\n",
              " 0,\n",
              " 0,\n",
              " 0,\n",
              " 0,\n",
              " 0,\n",
              " 0,\n",
              " 0,\n",
              " 0,\n",
              " 0,\n",
              " 0,\n",
              " 0,\n",
              " 0,\n",
              " 0,\n",
              " 0,\n",
              " 0,\n",
              " 0,\n",
              " 0,\n",
              " 0,\n",
              " 0,\n",
              " 0,\n",
              " 0,\n",
              " 0,\n",
              " 0,\n",
              " 0,\n",
              " 0,\n",
              " 0,\n",
              " 0,\n",
              " 0,\n",
              " 0,\n",
              " 0,\n",
              " 0,\n",
              " 0,\n",
              " 0,\n",
              " 0,\n",
              " 0,\n",
              " 0,\n",
              " 0,\n",
              " 0,\n",
              " 0,\n",
              " 0,\n",
              " 0,\n",
              " 0,\n",
              " 0,\n",
              " 0,\n",
              " 0,\n",
              " 0,\n",
              " 0,\n",
              " 0,\n",
              " 0,\n",
              " 0,\n",
              " 0,\n",
              " 0,\n",
              " 0,\n",
              " 0,\n",
              " 0,\n",
              " 0,\n",
              " 0,\n",
              " 0,\n",
              " 0,\n",
              " 0,\n",
              " 0,\n",
              " 0,\n",
              " 0,\n",
              " 0,\n",
              " 0,\n",
              " 0,\n",
              " 0,\n",
              " 0,\n",
              " 0,\n",
              " 0,\n",
              " 0,\n",
              " 0,\n",
              " 0,\n",
              " 0,\n",
              " 0,\n",
              " 0,\n",
              " 0,\n",
              " 0,\n",
              " 0,\n",
              " 0,\n",
              " 0,\n",
              " 0,\n",
              " 0,\n",
              " 0,\n",
              " 0,\n",
              " 0,\n",
              " 0,\n",
              " 0,\n",
              " 0,\n",
              " 0,\n",
              " 0,\n",
              " 0,\n",
              " 0,\n",
              " 0,\n",
              " 0,\n",
              " 0,\n",
              " 0,\n",
              " 0,\n",
              " 0,\n",
              " 0,\n",
              " 0,\n",
              " 0,\n",
              " 0,\n",
              " 0,\n",
              " 0,\n",
              " 0,\n",
              " 0,\n",
              " 0,\n",
              " 0,\n",
              " 0,\n",
              " 0,\n",
              " 0,\n",
              " 0,\n",
              " 0,\n",
              " 0,\n",
              " 0,\n",
              " 0,\n",
              " 0,\n",
              " 0,\n",
              " 0,\n",
              " 0,\n",
              " 0,\n",
              " 0,\n",
              " 0,\n",
              " 0,\n",
              " 0,\n",
              " 0,\n",
              " 0,\n",
              " 0,\n",
              " 0,\n",
              " 0,\n",
              " 0,\n",
              " 0,\n",
              " 0,\n",
              " 0,\n",
              " 0,\n",
              " 0,\n",
              " 0,\n",
              " 0,\n",
              " 0,\n",
              " 0,\n",
              " 0,\n",
              " 0,\n",
              " 0,\n",
              " 0,\n",
              " 0,\n",
              " 0,\n",
              " 0,\n",
              " 0,\n",
              " 0,\n",
              " 0,\n",
              " 0,\n",
              " 0,\n",
              " 0,\n",
              " 0,\n",
              " 0,\n",
              " 0,\n",
              " 0,\n",
              " 0,\n",
              " 0,\n",
              " 0,\n",
              " 0,\n",
              " 0,\n",
              " 0,\n",
              " 0,\n",
              " 0,\n",
              " 0,\n",
              " 0,\n",
              " 0,\n",
              " 0,\n",
              " 0,\n",
              " 0,\n",
              " 0,\n",
              " 0,\n",
              " 0,\n",
              " 0,\n",
              " 0,\n",
              " 0,\n",
              " 0,\n",
              " 0,\n",
              " 0,\n",
              " 0,\n",
              " 0,\n",
              " 0,\n",
              " 0,\n",
              " 0,\n",
              " 0,\n",
              " 0,\n",
              " 0,\n",
              " 0,\n",
              " 0,\n",
              " 0,\n",
              " 0,\n",
              " 0,\n",
              " 0,\n",
              " 0,\n",
              " 0,\n",
              " 0,\n",
              " 0,\n",
              " 0,\n",
              " 0,\n",
              " 0,\n",
              " 0,\n",
              " 0,\n",
              " 0,\n",
              " 0,\n",
              " 0,\n",
              " 0,\n",
              " 0,\n",
              " 0,\n",
              " 0,\n",
              " 0,\n",
              " 0,\n",
              " 0,\n",
              " 0,\n",
              " 0,\n",
              " 0,\n",
              " 0,\n",
              " 0,\n",
              " 0,\n",
              " 0,\n",
              " 0,\n",
              " 0,\n",
              " 0,\n",
              " 0,\n",
              " 0,\n",
              " 0,\n",
              " 0,\n",
              " 0,\n",
              " 0,\n",
              " 0,\n",
              " 0,\n",
              " 0,\n",
              " 0,\n",
              " 0,\n",
              " 0,\n",
              " 0,\n",
              " 0,\n",
              " 0,\n",
              " 0,\n",
              " 0,\n",
              " 0,\n",
              " 0,\n",
              " 0,\n",
              " 0,\n",
              " 0,\n",
              " 0,\n",
              " 0,\n",
              " 0,\n",
              " 0,\n",
              " 0,\n",
              " 0,\n",
              " 0,\n",
              " 0,\n",
              " 0,\n",
              " 0,\n",
              " 0,\n",
              " 0,\n",
              " 0,\n",
              " 0,\n",
              " 0,\n",
              " 0,\n",
              " 0,\n",
              " 0,\n",
              " 0,\n",
              " 0,\n",
              " 0,\n",
              " 0,\n",
              " 0,\n",
              " 0,\n",
              " 0,\n",
              " 0,\n",
              " 0,\n",
              " 0,\n",
              " 0,\n",
              " 0,\n",
              " 0,\n",
              " 0,\n",
              " 0,\n",
              " 0,\n",
              " 0,\n",
              " 0,\n",
              " 0,\n",
              " 0,\n",
              " 0,\n",
              " 0,\n",
              " 0,\n",
              " 0,\n",
              " 0,\n",
              " 0,\n",
              " 0,\n",
              " 0,\n",
              " 0,\n",
              " 0,\n",
              " 0,\n",
              " 0,\n",
              " 0,\n",
              " 0,\n",
              " 0,\n",
              " 0,\n",
              " 0,\n",
              " 0,\n",
              " 0,\n",
              " 0,\n",
              " 0,\n",
              " 0,\n",
              " 0,\n",
              " 0,\n",
              " 0,\n",
              " 0,\n",
              " 0,\n",
              " 0,\n",
              " 0,\n",
              " 0,\n",
              " 0,\n",
              " 0,\n",
              " 0,\n",
              " 0,\n",
              " 0,\n",
              " 0,\n",
              " 0,\n",
              " 0,\n",
              " 0,\n",
              " 0,\n",
              " 0,\n",
              " 0,\n",
              " 0,\n",
              " 0,\n",
              " 0,\n",
              " 0,\n",
              " 0,\n",
              " 0,\n",
              " 0,\n",
              " 0,\n",
              " 0,\n",
              " 0,\n",
              " 0,\n",
              " 0,\n",
              " 0,\n",
              " 0,\n",
              " 0,\n",
              " 0,\n",
              " 0,\n",
              " 0,\n",
              " 0,\n",
              " 0,\n",
              " 0,\n",
              " 0,\n",
              " 0,\n",
              " 0,\n",
              " 0,\n",
              " 0,\n",
              " 0,\n",
              " 0,\n",
              " 0,\n",
              " 0,\n",
              " 0,\n",
              " 0,\n",
              " 0,\n",
              " 0,\n",
              " 0,\n",
              " 0,\n",
              " 0,\n",
              " 0,\n",
              " 0,\n",
              " 0,\n",
              " 0,\n",
              " 0,\n",
              " 0,\n",
              " 0,\n",
              " 0,\n",
              " 0,\n",
              " 0,\n",
              " 0,\n",
              " 0,\n",
              " 0,\n",
              " 0,\n",
              " 0,\n",
              " 0,\n",
              " 0,\n",
              " 0,\n",
              " 0,\n",
              " 0,\n",
              " 0,\n",
              " 0,\n",
              " 0,\n",
              " 0,\n",
              " 0,\n",
              " 0,\n",
              " 0,\n",
              " 0,\n",
              " 0,\n",
              " 0,\n",
              " 0,\n",
              " 0,\n",
              " 0,\n",
              " 0,\n",
              " 0,\n",
              " 0,\n",
              " 0,\n",
              " 0,\n",
              " 0,\n",
              " 0,\n",
              " 0,\n",
              " 0,\n",
              " 0,\n",
              " 0,\n",
              " 0,\n",
              " 0,\n",
              " 0,\n",
              " 0,\n",
              " 0,\n",
              " 0,\n",
              " 0,\n",
              " 0,\n",
              " 0,\n",
              " 0,\n",
              " 0,\n",
              " 0,\n",
              " 0,\n",
              " 0,\n",
              " 0,\n",
              " 0,\n",
              " 0,\n",
              " 0,\n",
              " 0,\n",
              " 0,\n",
              " 0,\n",
              " 0,\n",
              " 0,\n",
              " 0,\n",
              " 0,\n",
              " 0,\n",
              " 0,\n",
              " 0,\n",
              " 0,\n",
              " 0,\n",
              " 0,\n",
              " 0,\n",
              " 0,\n",
              " 0,\n",
              " 0,\n",
              " 0,\n",
              " 0,\n",
              " 0,\n",
              " 0,\n",
              " 0,\n",
              " 0,\n",
              " 0,\n",
              " 0,\n",
              " 0,\n",
              " 0,\n",
              " 0,\n",
              " 0,\n",
              " 0,\n",
              " 0,\n",
              " 0,\n",
              " 0,\n",
              " 0,\n",
              " 0,\n",
              " 0,\n",
              " 0,\n",
              " 0,\n",
              " 0,\n",
              " 0,\n",
              " 0,\n",
              " 0,\n",
              " 0,\n",
              " 0,\n",
              " 0,\n",
              " 0,\n",
              " 0,\n",
              " 0,\n",
              " 0,\n",
              " 0,\n",
              " 0,\n",
              " 0,\n",
              " 0,\n",
              " 0,\n",
              " 0,\n",
              " 0,\n",
              " 0,\n",
              " 0,\n",
              " 0,\n",
              " 0,\n",
              " 0,\n",
              " 0,\n",
              " 0,\n",
              " 0,\n",
              " 0,\n",
              " 0,\n",
              " 0,\n",
              " 0,\n",
              " 0,\n",
              " 0,\n",
              " 0,\n",
              " 0,\n",
              " 0,\n",
              " 0,\n",
              " 0,\n",
              " 0,\n",
              " 0,\n",
              " 0,\n",
              " 0,\n",
              " 0,\n",
              " 0,\n",
              " 0,\n",
              " 0,\n",
              " 0,\n",
              " 0,\n",
              " 0,\n",
              " 0,\n",
              " 0,\n",
              " 0,\n",
              " 0,\n",
              " 0,\n",
              " 0,\n",
              " 0,\n",
              " 0,\n",
              " 0,\n",
              " 0,\n",
              " 0,\n",
              " 0,\n",
              " 0,\n",
              " 0,\n",
              " 0,\n",
              " 0,\n",
              " 0,\n",
              " 0,\n",
              " 0,\n",
              " 0,\n",
              " 0,\n",
              " 0,\n",
              " 0,\n",
              " 0,\n",
              " 0,\n",
              " 0,\n",
              " 0,\n",
              " 0,\n",
              " 0,\n",
              " 0,\n",
              " 0,\n",
              " 0,\n",
              " 0,\n",
              " 0,\n",
              " 0,\n",
              " 0,\n",
              " 0,\n",
              " 0,\n",
              " 0,\n",
              " 0,\n",
              " 0,\n",
              " 0,\n",
              " 0,\n",
              " 0,\n",
              " 0,\n",
              " 0,\n",
              " 0,\n",
              " 0,\n",
              " 0,\n",
              " 0,\n",
              " 0,\n",
              " 0,\n",
              " 0,\n",
              " 0,\n",
              " 0,\n",
              " 0,\n",
              " 0,\n",
              " 0,\n",
              " 0,\n",
              " 0,\n",
              " 0,\n",
              " 0,\n",
              " 0,\n",
              " 0,\n",
              " 0,\n",
              " 0,\n",
              " 0,\n",
              " 0,\n",
              " 0,\n",
              " 0,\n",
              " 0,\n",
              " 0,\n",
              " 0,\n",
              " 0,\n",
              " 0,\n",
              " 0,\n",
              " 0,\n",
              " 0,\n",
              " 0,\n",
              " 0]"
            ]
          },
          "metadata": {
            "tags": []
          },
          "execution_count": 55
        }
      ]
    },
    {
      "cell_type": "code",
      "metadata": {
        "colab": {
          "base_uri": "https://localhost:8080/"
        },
        "id": "y6suwtMq6Us5",
        "outputId": "a3775102-3402-4def-e595-364f17ac9cae"
      },
      "source": [
        "arr = [i for i in arr if i!=0 ]\n",
        "arr"
      ],
      "execution_count": null,
      "outputs": [
        {
          "output_type": "execute_result",
          "data": {
            "text/plain": [
              "['गाव', 'अंबिकापूर', 'तालुका ', 'खामगाव', 'जिल्हा :', 'बुलडाणा']"
            ]
          },
          "metadata": {
            "tags": []
          },
          "execution_count": 56
        }
      ]
    },
    {
      "cell_type": "code",
      "metadata": {
        "colab": {
          "base_uri": "https://localhost:8080/"
        },
        "id": "BBKwd3Ji8dY3",
        "outputId": "dd5a28e1-beda-429a-842e-006acf90f399"
      },
      "source": [
        "word_list = list(text_dict2.items())\n",
        "word_list.sort(key = lambda pair: pair[1][1])\n",
        "word_list"
      ],
      "execution_count": null,
      "outputs": [
        {
          "output_type": "execute_result",
          "data": {
            "text/plain": [
              "[('11/17!2020', [14, 8]),\n",
              " ('७ १२', [402, 10]),\n",
              " ('जिल्हा :', [298.21114561800016, 22.422291236000337]),\n",
              " ('अंबिकापूर', [54, 25]),\n",
              " ('गाव', [24, 30]),\n",
              " ('तालुका ', [162, 30]),\n",
              " ('खामगाव', [210, 30]),\n",
              " ('बुलडाणा', [342, 30]),\n",
              " ('उपविभाग : १०', [90, 41]),\n",
              " ('गट क्रमाक', [21, 43]),\n",
              " ('पजाबराव शकर पानझाडे', [187, 80]),\n",
              " ('हे.आर.चौ॰मी', [111, 81]),\n",
              " ('क्षेत्र एकक', [32, 84]),\n",
              " ('0.40.00', [332, 84]),\n",
              " ('0.41', [384, 84]),\n",
              " ('(1357)', [464, 84]),\n",
              " ('133. [255], 547', [512, 84]),\n",
              " ('कुळाचे नाव', [514, 97]),\n",
              " ('जिरायत', [32, 100]),\n",
              " ('[ शे.युसुफ शे.हसन', [187, 117]),\n",
              " ('इतर अधिकार', [515, 117]),\n",
              " ('बागायत', [32, 120]),\n",
              " ('0.2500 ](2518', [418, 120]),\n",
              " (' बोजा - राष्ट्रीयकृत बैँक गहाणा ( १६५१', [520, 132]),\n",
              " ('तरी', [32, 136]),\n",
              " ('शे जमीर ग़ुलाम नुर', [187, 153]),\n",
              " ('0.58.00', [332, 158]),\n",
              " ('0.59', [384, 158]),\n",
              " ('वरकस', [32, 158]),\n",
              " ('(302 )', [468, 158]),\n",
              " ('बॅक औं बडोदा शाखा खामगांव ]( १६५१', [520, 168]),\n",
              " ('इतर', [32, 176]),\n",
              " ('एकण क्षेत्र', [31, 191]),\n",
              " ('0.98.00', [112, 194]),\n",
              " ('[कडून ५००० रु कर्ज घेतले. ]( १६५१ )', [521, 207]),\n",
              " ('पोट खराब (लागवडीस अयोग्य)', [26, 209]),\n",
              " ('एक्कम घेणार शे.युसुफ शे हसन ]( १६५१ ', [519, 223]),\n",
              " ('वर्ग (ओ)', [32, 230]),\n",
              " ('वर्ग ब', [32, 248]),\n",
              " ('एकुण पो ख', [26, 265]),\n",
              " ('0.25.00', [112, 268]),\n",
              " ('बॅक ऑफ बडोदा शाखा खामगांत ( २१९६', [519, 277]),\n",
              " (' िवा [', [52.13701426866951, 298.46032711047206]),\n",
              " ('विशेष ', [79, 301]),\n",
              " ('जुडी', [29, 303]),\n",
              " ('कर्ज घेतले ता.२0/6/20१२ (', [567, 315]),\n",
              " ('आकारणी', [26, 320]),\n",
              " ('10००० ', [522, 320]),\n",
              " ('पंजाबराव ', [586.1370142686695, 349.46032711047206]),\n",
              " ('रक्कम घेणार', [522, 352]),\n",
              " ('शंकर पानझाडे', [634, 354]),\n",
              " ('2196', [506, 374]),\n",
              " ('ईमहाभूमि', [92, 380]),\n",
              " ('भूमिअभिलेख निर्णयात्', [178, 386]),\n",
              " ('राष्ट्रीयकृत बैँक गहाण', [551, 389]),\n",
              " ('बोजा ', [516, 390]),\n",
              " ('बॅक औफ बडोदा शाखा खामगांव ( २२९६', [519, 405]),\n",
              " ('४४००० रु कर्ज घेतले ता.16/12/2012', [522, 444]),\n",
              " ('229', [506, 464]),\n",
              " ('रक्कम घेणार पंजाबराव शंकर पानझाडे', [522, 480]),\n",
              " ('2296', [506, 500])]"
            ]
          },
          "metadata": {
            "tags": []
          },
          "execution_count": 63
        }
      ]
    },
    {
      "cell_type": "code",
      "metadata": {
        "id": "0plRm9L7Chwo",
        "colab": {
          "base_uri": "https://localhost:8080/"
        },
        "outputId": "caf693c1-2939-46e2-e3d6-dbf74dcafc7e"
      },
      "source": [
        "help(reader.readtext)"
      ],
      "execution_count": null,
      "outputs": [
        {
          "output_type": "stream",
          "text": [
            "Help on method readtext in module easyocr.easyocr:\n",
            "\n",
            "readtext(image, decoder='greedy', beamWidth=5, batch_size=1, workers=0, allowlist=None, blocklist=None, detail=1, paragraph=False, min_size=20, contrast_ths=0.1, adjust_contrast=0.5, filter_ths=0.003, text_threshold=0.7, low_text=0.4, link_threshold=0.4, canvas_size=2560, mag_ratio=1.0, slope_ths=0.1, ycenter_ths=0.5, height_ths=0.5, width_ths=0.5, add_margin=0.1) method of easyocr.easyocr.Reader instance\n",
            "    Parameters:\n",
            "    image: file path or numpy-array or a byte stream object\n",
            "\n"
          ],
          "name": "stdout"
        }
      ]
    },
    {
      "cell_type": "code",
      "metadata": {
        "id": "GjQ6hWuHElRK"
      },
      "source": [
        "output2sl= reader.readtext(\"Capture.JPG\", detail=1, text_threshold=0.5, paragraph=False, low_text=0.18, add_margin=0.1,height_ths=0.8,mag_ratio=0.85)"
      ],
      "execution_count": null,
      "outputs": []
    },
    {
      "cell_type": "code",
      "metadata": {
        "colab": {
          "base_uri": "https://localhost:8080/"
        },
        "id": "nNrVzzpQHSBw",
        "outputId": "4857d207-a06d-434e-a950-67ab3e85fd80"
      },
      "source": [
        "output2sl"
      ],
      "execution_count": null,
      "outputs": [
        {
          "output_type": "execute_result",
          "data": {
            "text/plain": [
              "[([[13, 6], [69, 6], [69, 24], [13, 24]], '11/17!2020', 0.8278330564498901),\n",
              " ([[401, 8], [426, 8], [426, 24], [401, 24]], '७ १२', 0.7607974410057068),\n",
              " ([[21, 20], [116, 20], [116, 50], [21, 50]],\n",
              "  'गाव : अंबिकापूर',\n",
              "  0.129355326294899),\n",
              " ([[294, 21], [394, 21], [394, 49], [294, 49]],\n",
              "  'जिल्हा :- बुलडाणा',\n",
              "  0.07111038267612457),\n",
              " ([[159, 27], [259, 27], [259, 48], [159, 48]],\n",
              "  'तालुका :- खामगाव',\n",
              "  0.1674354374408722),\n",
              " ([[21, 40], [173, 40], [173, 65], [21, 65]],\n",
              "  'गट क्रमाक व उपविभाग : १०',\n",
              "  0.2515709698200226),\n",
              " ([[106, 75], [178, 75], [178, 103], [106, 103]],\n",
              "  'हे.आर.चो.मी',\n",
              "  0.11093215644359589),\n",
              " ([[28, 78], [86, 78], [86, 103], [28, 103]],\n",
              "  'क्षेत्र एकक',\n",
              "  0.7077191472053528),\n",
              " ([[185, 78], [322, 78], [322, 104], [185, 104]],\n",
              "  'पजाबराव शकर पानझाडे',\n",
              "  0.17491993308067322),\n",
              " ([[459, 80], [597, 80], [597, 105], [459, 105]],\n",
              "  '(1357)| 133, [255], 547',\n",
              "  0.02335117571055889),\n",
              " ([[330, 83], [375, 83], [375, 102], [330, 102]],\n",
              "  '0.40.00',\n",
              "  0.6699162721633911),\n",
              " ([[382, 83], [412, 83], [412, 102], [382, 102]], '0.41', 0.6599052548408508),\n",
              " ([[510, 94], [583, 94], [583, 122], [510, 122]],\n",
              "  'कुळाचे नाव',\n",
              "  0.37387925386428833),\n",
              " ([[27, 97], [73, 97], [73, 118], [27, 118]], 'जिरायत', 0.8076814413070679),\n",
              " ([[109, 100], [156, 100], [156, 118], [109, 118]],\n",
              "  ' 0.98.00',\n",
              "  0.24869687855243683),\n",
              " ([[183, 113], [289, 113], [289, 140], [183, 140]],\n",
              "  '[ शे.युसुफ शे.हसन',\n",
              "  0.05815495550632477),\n",
              " ([[327, 113], [592, 113], [592, 140], [327, 140]],\n",
              "  '0.58.00   0.59   0.२5०0] (२518)< इतर अधिकार',\n",
              "  4.735857874038629e-05),\n",
              " ([[27, 116], [73, 116], [73, 137], [27, 137]], 'बागायत', 0.524665117263794),\n",
              " ([[510, 128], [710, 128], [710, 159], [510, 159]],\n",
              "  '[ बोजा - राष्ट्रीयकृत बैँक गहाणा ( १६५१',\n",
              "  0.05764024332165718),\n",
              " ([[27, 133], [55, 133], [55, 153], [27, 153]], 'तरी', 0.3818068504333496),\n",
              " ([[183, 150], [289, 150], [289, 178], [183, 178]],\n",
              "  'शे जमीर गुलाम नुर',\n",
              "  0.1015239953994751),\n",
              " ([[382, 154], [506, 154], [506, 175], [382, 175]],\n",
              "  '0.59   0.25.00  ( 302 )',\n",
              "  0.012680691666901112),\n",
              " ([[29, 156], [69, 156], [69, 172], [29, 172]], 'वरकस', 0.9026636481285095),\n",
              " ([[330, 156], [375, 156], [375, 175], [330, 175]],\n",
              "  '0.58.00',\n",
              "  0.4140775799751282),\n",
              " ([[515, 167], [712, 167], [712, 194], [515, 194]],\n",
              "  'बॅक औ बडोदा शाखा खामगांव ]( १६५१',\n",
              "  0.002370536094531417),\n",
              " ([[26, 169], [60, 169], [60, 194], [26, 194]], 'इतर', 0.5362675786018372),\n",
              " ([[21, 186], [184, 186], [184, 235], [21, 235]],\n",
              "  'पौदखरीब लागवडीन अपोग्फा',\n",
              "  4.02350997319445e-06),\n",
              " ([[106, 188], [157, 188], [157, 213], [106, 213]],\n",
              "  '._.98.00_',\n",
              "  0.15227045118808746),\n",
              " ([[518, 202], [700, 202], [700, 232], [518, 232]],\n",
              "  '[कडून ५००० रु कर्ज घेतले. ]( १६५१ )',\n",
              "  0.010691903531551361),\n",
              " ([[518, 221], [714, 221], [714, 249], [518, 249]],\n",
              "  'एरक्केम घेणार शे.युसुफ शे.हसन ]( १६५१',\n",
              "  0.0030516774859279394),\n",
              " ([[26, 223], [56, 223], [56, 249], [26, 249]], 'वर्ग (', 0.36973822116851807),\n",
              " ([[109, 229], [156, 229], [156, 248], [109, 248]],\n",
              "  ' 0.25.00',\n",
              "  0.13589192926883698),\n",
              " ([[26, 242], [72, 242], [72, 267], [26, 267]], 'वर्ग ब', 0.11385607719421387),\n",
              " ([[21, 254], [91, 254], [91, 292], [21, 292]],\n",
              "  'ऐकुण पै ख',\n",
              "  0.07731492817401886),\n",
              " ([[513, 259], [665, 259], [665, 286], [513, 286]],\n",
              "  'बोजा - राष्ट्रीयकृत बैँक गहाण',\n",
              "  0.08607038855552673),\n",
              " ([[106, 263], [157, 263], [157, 289], [106, 289]],\n",
              "  '._.25.00_',\n",
              "  0.3725469708442688),\n",
              " ([[518, 275], [717, 275], [717, 300], [518, 300]],\n",
              "  'बॅक औफ बडोदा शाखा खामगांव ( २१९६',\n",
              "  0.021826177835464478),\n",
              " ([[26, 280], [84, 280], [84, 305], [26, 305]], 'आकारणी', 0.6633118391036987),\n",
              " ([[109, 283], [139, 283], [139, 304], [109, 304]],\n",
              "  '1.00',\n",
              "  0.6851986050605774),\n",
              " ([[23, 296], [117, 296], [117, 326], [23, 326]],\n",
              "  'जुडी किंवा विशेष ',\n",
              "  0.06580246239900589),\n",
              " ([[518, 310], [698, 310], [698, 338], [518, 338]],\n",
              "  '१०००० रु कर्ज घेतले ता.२०/6 २०१२ (',\n",
              "  0.0013738421257585287),\n",
              " ([[21, 315], [79, 315], [79, 340], [21, 340]],\n",
              "  ' आकारणी',\n",
              "  0.19926835596561432),\n",
              " ([[504, 335], [544, 335], [544, 353], [504, 353]],\n",
              "  '2196 )',\n",
              "  0.42387428879737854),\n",
              " ([[520, 347], [707, 347], [707, 375], [520, 375]],\n",
              "  'रक्कम घेणार पंजाबराव शंकर पानझाडे',\n",
              "  0.1324106603860855),\n",
              " ([[85, 365], [523, 365], [523, 517], [85, 517]],\n",
              "  'ई महाभूमि',\n",
              "  0.09585215151309967),\n",
              " ([[504, 370], [546, 370], [546, 391], [504, 391]],\n",
              "  '2196 )',\n",
              "  0.3180692791938782),\n",
              " ([[171, 382], [266, 382], [266, 419], [171, 419]],\n",
              "  'भूमिअभिलेख ',\n",
              "  0.14283668994903564),\n",
              " ([[510, 386], [665, 386], [665, 411], [510, 411]],\n",
              "  'बोजा - राष्ट्रीयकृत बैँक गहाण',\n",
              "  0.013818405568599701),\n",
              " ([[518, 402], [717, 402], [717, 427], [518, 427]],\n",
              "  'बॅक ऑफ बडोदा शाखा खामगांव ( २२९६',\n",
              "  0.029712345451116562),\n",
              " ([[518, 438], [705, 438], [705, 465], [518, 465]],\n",
              "  '४४००० रु कर्ज घेतले ता.16/12/२०१२ (',\n",
              "  0.02736486867070198),\n",
              " ([[502, 460], [537, 460], [537, 481], [502, 481]],\n",
              "  '02296',\n",
              "  0.07167776674032211),\n",
              " ([[520, 475], [710, 475], [710, 500], [520, 500]],\n",
              "  'रक्कम घेणार पंजाबराव शंकर पानझाडे',\n",
              "  0.19852881133556366),\n",
              " ([[501, 494], [545, 494], [545, 517], [501, 517]],\n",
              "  '*2296 )',\n",
              "  0.06628654897212982)]"
            ]
          },
          "metadata": {
            "tags": []
          },
          "execution_count": 54
        }
      ]
    },
    {
      "cell_type": "markdown",
      "metadata": {
        "id": "OfhEdXqjtGve"
      },
      "source": [
        "Filtering dictionary"
      ]
    },
    {
      "cell_type": "code",
      "metadata": {
        "colab": {
          "base_uri": "https://localhost:8080/"
        },
        "id": "WCRpjeObH0cd",
        "outputId": "e6c00baf-0408-4308-9400-c3b96e1f9ba5"
      },
      "source": [
        "coordinate_index, text_index = 0, 1\n",
        "cordinates = output2sl[0][coordinate_index]\n",
        "text = output2sl[0][text_index]\n",
        "text\n",
        "text_dict = {}\n",
        "text_dict2 ={}\n",
        "for element in output2sl:\n",
        "  text_dict[element[text_index]] = element[coordinate_index]\n",
        "  text_dict2[element[text_index]] = element[coordinate_index][0]\n",
        "print(text_dict)"
      ],
      "execution_count": null,
      "outputs": [
        {
          "output_type": "stream",
          "text": [
            "{'11/17!2020': [[13, 6], [69, 6], [69, 24], [13, 24]], '७ १२': [[401, 8], [426, 8], [426, 24], [401, 24]], 'गाव : अंबिकापूर': [[21, 20], [116, 20], [116, 50], [21, 50]], 'जिल्हा :- बुलडाणा': [[294, 21], [394, 21], [394, 49], [294, 49]], 'तालुका :- खामगाव': [[159, 27], [259, 27], [259, 48], [159, 48]], 'गट क्रमाक व उपविभाग : १०': [[21, 40], [173, 40], [173, 65], [21, 65]], 'हे.आर.चो.मी': [[106, 75], [178, 75], [178, 103], [106, 103]], 'क्षेत्र एकक': [[28, 78], [86, 78], [86, 103], [28, 103]], 'पजाबराव शकर पानझाडे': [[185, 78], [322, 78], [322, 104], [185, 104]], '(1357)| 133, [255], 547': [[459, 80], [597, 80], [597, 105], [459, 105]], '0.40.00': [[330, 83], [375, 83], [375, 102], [330, 102]], '0.41': [[382, 83], [412, 83], [412, 102], [382, 102]], 'कुळाचे नाव': [[510, 94], [583, 94], [583, 122], [510, 122]], 'जिरायत': [[27, 97], [73, 97], [73, 118], [27, 118]], ' 0.98.00': [[109, 100], [156, 100], [156, 118], [109, 118]], '[ शे.युसुफ शे.हसन': [[183, 113], [289, 113], [289, 140], [183, 140]], '0.58.00   0.59   0.२5०0] (२518)< इतर अधिकार': [[327, 113], [592, 113], [592, 140], [327, 140]], 'बागायत': [[27, 116], [73, 116], [73, 137], [27, 137]], '[ बोजा - राष्ट्रीयकृत बैँक गहाणा ( १६५१': [[510, 128], [710, 128], [710, 159], [510, 159]], 'तरी': [[27, 133], [55, 133], [55, 153], [27, 153]], 'शे जमीर गुलाम नुर': [[183, 150], [289, 150], [289, 178], [183, 178]], '0.59   0.25.00  ( 302 )': [[382, 154], [506, 154], [506, 175], [382, 175]], 'वरकस': [[29, 156], [69, 156], [69, 172], [29, 172]], '0.58.00': [[330, 156], [375, 156], [375, 175], [330, 175]], 'बॅक औ बडोदा शाखा खामगांव ]( १६५१': [[515, 167], [712, 167], [712, 194], [515, 194]], 'इतर': [[26, 169], [60, 169], [60, 194], [26, 194]], 'पौदखरीब लागवडीन अपोग्फा': [[21, 186], [184, 186], [184, 235], [21, 235]], '._.98.00_': [[106, 188], [157, 188], [157, 213], [106, 213]], '[कडून ५००० रु कर्ज घेतले. ]( १६५१ )': [[518, 202], [700, 202], [700, 232], [518, 232]], 'एरक्केम घेणार शे.युसुफ शे.हसन ]( १६५१': [[518, 221], [714, 221], [714, 249], [518, 249]], 'वर्ग (': [[26, 223], [56, 223], [56, 249], [26, 249]], ' 0.25.00': [[109, 229], [156, 229], [156, 248], [109, 248]], 'वर्ग ब': [[26, 242], [72, 242], [72, 267], [26, 267]], 'ऐकुण पै ख': [[21, 254], [91, 254], [91, 292], [21, 292]], 'बोजा - राष्ट्रीयकृत बैँक गहाण': [[510, 386], [665, 386], [665, 411], [510, 411]], '._.25.00_': [[106, 263], [157, 263], [157, 289], [106, 289]], 'बॅक औफ बडोदा शाखा खामगांव ( २१९६': [[518, 275], [717, 275], [717, 300], [518, 300]], 'आकारणी': [[26, 280], [84, 280], [84, 305], [26, 305]], '1.00': [[109, 283], [139, 283], [139, 304], [109, 304]], 'जुडी किंवा विशेष ': [[23, 296], [117, 296], [117, 326], [23, 326]], '१०००० रु कर्ज घेतले ता.२०/6 २०१२ (': [[518, 310], [698, 310], [698, 338], [518, 338]], ' आकारणी': [[21, 315], [79, 315], [79, 340], [21, 340]], '2196 )': [[504, 370], [546, 370], [546, 391], [504, 391]], 'रक्कम घेणार पंजाबराव शंकर पानझाडे': [[520, 475], [710, 475], [710, 500], [520, 500]], 'ई महाभूमि': [[85, 365], [523, 365], [523, 517], [85, 517]], 'भूमिअभिलेख ': [[171, 382], [266, 382], [266, 419], [171, 419]], 'बॅक ऑफ बडोदा शाखा खामगांव ( २२९६': [[518, 402], [717, 402], [717, 427], [518, 427]], '४४००० रु कर्ज घेतले ता.16/12/२०१२ (': [[518, 438], [705, 438], [705, 465], [518, 465]], '02296': [[502, 460], [537, 460], [537, 481], [502, 481]], '*2296 )': [[501, 494], [545, 494], [545, 517], [501, 517]]}\n"
          ],
          "name": "stdout"
        }
      ]
    },
    {
      "cell_type": "code",
      "metadata": {
        "colab": {
          "base_uri": "https://localhost:8080/"
        },
        "id": "68jIWwSAota1",
        "outputId": "e31c6cea-44f2-4b49-a581-fb93fbfa8744"
      },
      "source": [
        "text_dict = {}\n",
        "text_dict2 ={}\n",
        "for element in newOutput:\n",
        "  text_dict[element[text_index]] = element[coordinate_index]\n",
        "  text_dict2[element[text_index]] = element[coordinate_index][0]\n",
        "print(text_dict)"
      ],
      "execution_count": null,
      "outputs": [
        {
          "output_type": "stream",
          "text": [
            "{'11/17!2020': [[13, 6], [69, 6], [69, 24], [13, 24]], '७ १२': [[401, 8], [426, 8], [426, 24], [401, 24]], 'गाव : अंबिकापूर': [[21, 20], [116, 20], [116, 50], [21, 50]], 'जिल्हा :- बुलडाणा': [[294, 21], [394, 21], [394, 49], [294, 49]], 'तालुका :- खामगाव': [[159, 27], [259, 27], [259, 48], [159, 48]], 'गट क्रमाक व उपविभाग : १०': [[21, 40], [173, 40], [173, 65], [21, 65]], 'हे.आर.चो.मी': [[106, 75], [178, 75], [178, 103], [106, 103]], 'क्षेत्र एकक': [[28, 78], [86, 78], [86, 103], [28, 103]], 'पजाबराव शकर पानझाडे': [[185, 78], [322, 78], [322, 104], [185, 104]], '(1357)| 133, [255], 547': [[459, 80], [597, 80], [597, 105], [459, 105]], '0.40.00': [[330, 83], [375, 83], [375, 102], [330, 102]], '0.41': [[382, 83], [412, 83], [412, 102], [382, 102]], 'कुळाचे नाव': [[510, 94], [583, 94], [583, 122], [510, 122]], 'जिरायत': [[27, 97], [73, 97], [73, 118], [27, 118]], ' 0.98.00': [[109, 100], [156, 100], [156, 118], [109, 118]], '[ शे.युसुफ शे.हसन': [[183, 113], [289, 113], [289, 140], [183, 140]], '0.58.00   0.59   0.२5०0] (२518)< इतर अधिकार': [[327, 113], [592, 113], [592, 140], [327, 140]], 'बागायत': [[27, 116], [73, 116], [73, 137], [27, 137]], '[ बोजा - राष्ट्रीयकृत बैँक गहाणा ( १६५१': [[510, 128], [710, 128], [710, 159], [510, 159]], 'तरी': [[27, 133], [55, 133], [55, 153], [27, 153]], 'शे जमीर गुलाम नुर': [[183, 150], [289, 150], [289, 178], [183, 178]], '0.59   0.25.00  ( 302 )': [[382, 154], [506, 154], [506, 175], [382, 175]], 'वरकस': [[29, 156], [69, 156], [69, 172], [29, 172]], '0.58.00': [[330, 156], [375, 156], [375, 175], [330, 175]], 'बॅक औ बडोदा शाखा खामगांव ]( १६५१': [[515, 167], [712, 167], [712, 194], [515, 194]], 'इतर': [[26, 169], [60, 169], [60, 194], [26, 194]], 'पौदखरीब लागवडीन अपोग्फा': [[21, 186], [184, 186], [184, 235], [21, 235]], '._.98.00_': [[106, 188], [157, 188], [157, 213], [106, 213]], '[कडून ५००० रु कर्ज घेतले. ]( १६५१ )': [[518, 202], [700, 202], [700, 232], [518, 232]], 'एरक्केम घेणार शे.युसुफ शे.हसन ]( १६५१': [[518, 221], [714, 221], [714, 249], [518, 249]], 'वर्ग (': [[26, 223], [56, 223], [56, 249], [26, 249]], ' 0.25.00': [[109, 229], [156, 229], [156, 248], [109, 248]], 'वर्ग ब': [[26, 242], [72, 242], [72, 267], [26, 267]], 'ऐकुण पै ख': [[21, 254], [91, 254], [91, 292], [21, 292]], 'बोजा - राष्ट्रीयकृत बैँक गहाण': [[510, 386], [665, 386], [665, 411], [510, 411]], '._.25.00_': [[106, 263], [157, 263], [157, 289], [106, 289]], 'बॅक औफ बडोदा शाखा खामगांव ( २१९६': [[518, 275], [717, 275], [717, 300], [518, 300]], 'आकारणी': [[26, 280], [84, 280], [84, 305], [26, 305]], '1.00': [[109, 283], [139, 283], [139, 304], [109, 304]], 'जुडी किंवा विशेष ': [[23, 296], [117, 296], [117, 326], [23, 326]], '१०००० रु कर्ज घेतले ता.२०/6 २०१२ (': [[518, 310], [698, 310], [698, 338], [518, 338]], ' आकारणी': [[21, 315], [79, 315], [79, 340], [21, 340]], '2196 )': [[504, 370], [546, 370], [546, 391], [504, 391]], 'रक्कम घेणार पंजाबराव शंकर पानझाडे': [[520, 475], [710, 475], [710, 500], [520, 500]], 'ई महाभूमि': [[85, 365], [523, 365], [523, 517], [85, 517]], 'भूमिअभिलेख ': [[171, 382], [266, 382], [266, 419], [171, 419]], 'बॅक ऑफ बडोदा शाखा खामगांव ( २२९६': [[518, 402], [717, 402], [717, 427], [518, 427]], '४४००० रु कर्ज घेतले ता.16/12/२०१२ (': [[518, 438], [705, 438], [705, 465], [518, 465]], '02296': [[502, 460], [537, 460], [537, 481], [502, 481]], '*2296 )': [[501, 494], [545, 494], [545, 517], [501, 517]]}\n"
          ],
          "name": "stdout"
        }
      ]
    },
    {
      "cell_type": "markdown",
      "metadata": {
        "id": "cb_Up0nPtTKV"
      },
      "source": [
        "Sorting on basis of X and Y axes"
      ]
    },
    {
      "cell_type": "code",
      "metadata": {
        "id": "uzdVSbRIMvXz",
        "colab": {
          "base_uri": "https://localhost:8080/"
        },
        "outputId": "3cd76263-fcbe-4fa4-fadf-3df580f04425"
      },
      "source": [
        "print(text_dict.items())\n",
        "sorted_text_dict = (sorted(text_dict.items(),key=lambda x:x[1][0][0]))\n",
        "print(sorted_text_dict)\n",
        "n=len(sorted_text_dict)\n",
        "for i in range(n-1):\n",
        "  for j in range(n-i-1):\n",
        "    if(sorted_text_dict[j][1][0][1]>(sorted_text_dict[j+1][1][0][1]+18)):\n",
        "      sorted_text_dict[j],sorted_text_dict[j+1]=sorted_text_dict[j+1],sorted_text_dict[j]\n",
        "print(sorted_text_dict)"
      ],
      "execution_count": null,
      "outputs": [
        {
          "output_type": "stream",
          "text": [
            "dict_items([('11/18/2020', [[68, 38], [188, 38], [188, 68], [68, 68]]), ('७१२', [[918, 44], [972, 44], [972, 74], [918, 74]]), ('अहवाल दिनांक', [[1228, 156], [1422, 156], [1422, 200], [1228, 200]]), ('18/11/2020', [[1449, 158], [1614, 158], [1614, 201], [1449, 201]]), ('गाव नमुना सात', [[750, 234], [954, 234], [954, 276], [750, 276]]), ('अधिकार अभिलेख पत्रक', [[694, 266], [996, 266], [996, 312], [694, 312]]), ('( तयार करणे व सुस्थितीत ठेवणे', [[824, 298], [1234, 298], [1234, 357], [824, 357]]), ('[ महाराष्ट्र जमीन महसूल अधिकार अभिलेख आणि नोंदवह्या', [[105, 300], [830, 300], [830, 363], [105, 363]]), (') नियम, १९७१ यातील नियम', [[1231, 303], [1604, 303], [1604, 356], [1231, 356]]), ('३,५६ आणि ७', [[733, 345], [939, 345], [939, 395], [733, 395]]), (']', [[942, 358], [964, 358], [964, 390], [942, 390]]), ('ठाणे', [[813, 415], [884, 415], [884, 466], [813, 466]]), ('भिवंडी', [[522, 416], [618, 416], [618, 462], [522, 462]]), ('जिल्हा', [[689, 417], [776, 417], [776, 467], [689, 467]]), ('तालुका', [[392, 426], [482, 426], [482, 468], [392, 468]]), ('एकसाल', [[191, 427], [297, 427], [297, 465], [191, 465]]), ('गाव', [[92, 428], [142, 428], [142, 458], [92, 458]]), ('भुमापन क्रमांक व उपविभाग', [[107, 459], [457, 459], [457, 509], [107, 509]]), ('1/1', [[231, 625], [287, 625], [287, 661], [231, 661]]), ('भोगवटादाराचे नांव', [[934, 536], [1169, 536], [1169, 586], [934, 586]]), ('भुमापन क्रमांक व', [[156, 540], [378, 540], [378, 586], [156, 586]]), ('पध्दती', [[538.6574839128131, 540.6437097820327], [626.9173586221851, 537.7203466907107], [625.3425160871869, 582.3562902179673], [537.0826413778149, 586.2796533092893]]), ('भू- धारणा', [[418, 544], [540, 544], [540, 588], [418, 588]]), ('उपविभाग', [[195, 576], [322, 576], [322, 622], [195, 622]]), ('भोगवटादार वर्ग', [[420, 646], [624, 646], [624, 702], [420, 702]]), ('-1', [[502, 702], [538, 702], [538, 730], [502, 730]]), ('आकार   पो॰ख॰', [[865, 799], [1052, 799], [1052, 852], [865, 852]]), ('खाते क्रमांक', [[1295, 801], [1461, 801], [1461, 850], [1295, 850]]), ('फे.फा', [[1062, 802], [1152, 802], [1152, 848], [1062, 848]]), ('क्षेत्र', [[127, 891], [173, 891], [173, 929], [127, 929]]), ('शेताचे स्थानिक', [[107, 809], [255, 809], [255, 847], [107, 847]]), ('नांव', [[255.77165594187537, 810.4291398546884], [302.5424526814298, 817.7019098637974], [297.2283440581246, 846.5708601453116], [250.4575473185702, 839.2980901362026]]), ('हे.आर॰चौ॰मी॰ राईबाई कोंडू सोनावणे', [[280, 880], [740, 880], [740, 938], [280, 938]]), ('248', [[1081, 1211], [1135, 1211], [1135, 1247], [1081, 1247]]), ('एकक', [[176, 896], [246, 896], [246, 926], [176, 926]]), ('329', [[1182, 896], [1236, 896], [1236, 928], [1182, 928]]), ('गोपिका कोंडू सोनावणे', [[485, 923], [746, 923], [746, 975], [485, 975]]), ('जिरायत', [[122, 926], [220, 926], [220, 968], [122, 968]]), ('कुळाचे', [[1193.5384615384614, 928.6923076923077], [1288.9493117733198, 922.7799949845339], [1287.4615384615386, 969.3076923076923], [1192.0506882266802, 974.2200050154661]]), ('नाव', [[1287, 931], [1345, 931], [1345, 967], [1287, 967]]), ('0', [[286, 1136], [312, 1136], [312, 1164], [286, 1164]]), ('९० . 8०', [[316, 1136], [400, 1136], [400, 1168], [316, 1168]]), ('५', [[270, 948], [410, 948], [410, 1106], [270, 1106]]), ('पुंडलिक कोंडू सोनावणे', [[482, 960], [756, 960], [756, 1016], [482, 1016]]), ('इतर अधिकार', [[1193, 963], [1371, 963], [1371, 1013], [1193, 1013]]), ('बागायत', [[126, 974], [216, 974], [216, 1006], [126, 1006]]), ('लडकू कोंडू', [[486, 1000], [633, 1000], [633, 1057], [486, 1057]]), ('तरी', [[122, 1002], [176, 1002], [176, 1048], [122, 1048]]), ('सोनावणे', [[444, 1560], [544, 1560], [544, 1604], [444, 1604]]), ('गणपत कोंडू सोनावणे', [[485, 1043], [739, 1043], [739, 1095], [485, 1095]]), ('वरकस', [[126, 1054], [206, 1054], [206, 1084], [126, 1084]]), ('लक्ष्मी सदू पाटील', [[485, 1083], [693, 1083], [693, 1135], [485, 1135]]), ('( 248', [[1067, 1091], [1135, 1091], [1135, 1127], [1067, 1127]]), ('इतर', [[125, 1093], [185, 1093], [185, 1129], [125, 1129]]), ('इंदू कोंडू सोनावणे', [[485, 1120], [701, 1120], [701, 1173], [485, 1173]]), ('एकुण _ क्षेत्र', [[121, 1127], [249, 1127], [249, 1177], [121, 1177]]), ('नरेश कोंडू सोनावणे', [[487, 1161], [721, 1161], [721, 1213], [487, 1213]]), ('पोट-खराब ( लागवडीस', [[109, 1165], [375, 1165], [375, 1215], [109, 1215]]), ('सिंधु कोंडू सोनावणे', [[482, 1197], [713, 1197], [713, 1254], [482, 1254]]), ('अयोग्य )', [[94, 1206], [195, 1206], [195, 1252], [94, 1252]]), ('0ळब५', [[755, 1219], [1021, 1219], [1021, 1375], [755, 1375]]), ('लक्ष्मण काळू सोनावणे', [[485, 1241], [743, 1241], [743, 1293], [485, 1293]]), ('वर्ग (अ)', [[121, 1243], [235, 1243], [235, 1295], [121, 1295]]), ('344 )', [[1082, 1450], [1148, 1450], [1148, 1482], [1082, 1482]]), ('0 .02 . 20', [[286, 1256], [402, 1256], [402, 1288], [286, 1288]]), (' सोनावणे /', [[622, 1272], [758, 1272], [758, 1328], [622, 1328]]), ('वर्ग', [[119, 1281], [175, 1281], [175, 1333], [119, 1333]]), ('| यमुना काळू', [[463, 1281], [635, 1281], [635, 1333], [463, 1333]]), ('', [[370, 1286], [400, 1286], [400, 1314], [370, 1314]]), ('( 344 )', [[1065, 1289], [1149, 1289], [1149, 1327], [1065, 1327]]), ('ब', [[186, 1292], [230, 1292], [230, 1334], [186, 1334]]), ('लड्कूबाई', [[481, 1315], [609, 1315], [609, 1380], [481, 1380]]), ('पे', [[182, 1328], [222, 1328], [222, 1370], [182, 1370]]), ('काळू', [[602, 1328], [674, 1328], [674, 1372], [602, 1372]]), ('344', [[1081, 1329], [1135, 1329], [1135, 1365], [1081, 1365]]), (')', [[1128, 1334], [1148, 1334], [1148, 1364], [1128, 1364]]), ('एकुण', [[110, 1334], [184, 1334], [184, 1380], [110, 1380]]), ('ख', [[224, 1336], [256, 1336], [256, 1368], [224, 1368]]), ('0 .0२ . 2०', [[286, 1336], [400, 1336], [400, 1368], [286, 1368]]), ('आकारणी', [[125, 1367], [239, 1367], [239, 1411], [125, 1411]]), ('0 .9९', [[286, 1380], [354, 1380], [354, 1410], [286, 1410]]), ('ताराबाई काळू सोनावणे', [[484, 1393], [757, 1393], [757, 1452], [484, 1452]]), ('जुडी किंवा', [[106, 1407], [241, 1407], [241, 1458], [106, 1458]]), ('सुंदरीबाई काळू', [[483, 1434], [672, 1434], [672, 1492], [483, 1492]]), ('विशेष आकारणी', [[93, 1445], [288, 1445], [288, 1498], [93, 1498]]), ('सिताबाई रामचंद्र', [[500, 1518], [696, 1518], [696, 1564], [500, 1564]]), ('880 )', [[1082, 1846], [1148, 1846], [1148, 1878], [1082, 1878]]), ('[ रामचंद्र काळू', [[489, 1599], [677, 1599], [677, 1649], [489, 1649]]), ('0.90.80', [[766, 1608], [858, 1608], [858, 1638], [766, 1638]]), ('नावणे', [[468, 1640], [544, 1640], [544, 1682], [468, 1682]]), ('वसंत रामचंद्र सोनावणे', [[486, 1676], [744, 1676], [744, 1722], [486, 1722]]), ('सुरेश रामचंद्र सोनावणे', [[485, 1715], [746, 1715], [746, 1767], [485, 1767]]), ('वनीता वसंत पाटील', [[486, 1756], [714, 1756], [714, 1800], [486, 1800]]), ('रविंद्र रामचंद्र सोनावणे', [[486, 1796], [746, 1796], [746, 1842], [486, 1842]]), ('पंडित रामचंद्र सोनावणे', [[486, 1836], [752, 1836], [752, 1882], [486, 1882]]), ('-सामाईक   क्षेत्र-', [[564, 1876], [748, 1876], [748, 1920], [564, 1920]]), ('.90.80', [[785, 1883], [861, 1883], [861, 1919], [785, 1919]]), ('.99', [[901, 1883], [943, 1883], [943, 1919], [901, 1919]]), ('.20', [[1017, 1883], [1059, 1883], [1059, 1919], [1017, 1919]]), ('0.', [[882, 1884], [908, 1884], [908, 1916], [882, 1916]]), ('0.02.', [[964, 1884], [1022, 1884], [1022, 1916], [964, 1916]]), ('सीमा आणि भुमापन चिन्हे', [[1162, 1954], [1486, 1954], [1486, 2010], [1162, 2010]]), ('फेरफार  क्र॰', [[145, 1959], [286, 1959], [286, 2004], [145, 2004]]), ('_(119),(344),(468),(796),(847),(869)', [[324, 1962], [860, 1962], [860, 2008], [324, 2008]]), ('6ऐफ़ड  /२ँधबहरत.फ़ौ+ँधफ़1 ठद  0\"ँ2ू छ९712 _टँू8ड डफ़*', [[67, 2128], [709, 2128], [709, 2164], [67, 2164]]), ('1/२', [[1592, 2130], [1630, 2130], [1630, 2158], [1592, 2158]])])\n",
            "[('6ऐफ़ड  /२ँधबहरत.फ़ौ+ँधफ़1 ठद  0\"ँ2ू छ९712 _टँू8ड डफ़*', [[67, 2128], [709, 2128], [709, 2164], [67, 2164]]), ('11/18/2020', [[68, 38], [188, 38], [188, 68], [68, 68]]), ('गाव', [[92, 428], [142, 428], [142, 458], [92, 458]]), ('विशेष आकारणी', [[93, 1445], [288, 1445], [288, 1498], [93, 1498]]), ('अयोग्य )', [[94, 1206], [195, 1206], [195, 1252], [94, 1252]]), ('[ महाराष्ट्र जमीन महसूल अधिकार अभिलेख आणि नोंदवह्या', [[105, 300], [830, 300], [830, 363], [105, 363]]), ('जुडी किंवा', [[106, 1407], [241, 1407], [241, 1458], [106, 1458]]), ('भुमापन क्रमांक व उपविभाग', [[107, 459], [457, 459], [457, 509], [107, 509]]), ('शेताचे स्थानिक', [[107, 809], [255, 809], [255, 847], [107, 847]]), ('पोट-खराब ( लागवडीस', [[109, 1165], [375, 1165], [375, 1215], [109, 1215]]), ('एकुण', [[110, 1334], [184, 1334], [184, 1380], [110, 1380]]), ('वर्ग', [[119, 1281], [175, 1281], [175, 1333], [119, 1333]]), ('एकुण _ क्षेत्र', [[121, 1127], [249, 1127], [249, 1177], [121, 1177]]), ('वर्ग (अ)', [[121, 1243], [235, 1243], [235, 1295], [121, 1295]]), ('जिरायत', [[122, 926], [220, 926], [220, 968], [122, 968]]), ('तरी', [[122, 1002], [176, 1002], [176, 1048], [122, 1048]]), ('इतर', [[125, 1093], [185, 1093], [185, 1129], [125, 1129]]), ('आकारणी', [[125, 1367], [239, 1367], [239, 1411], [125, 1411]]), ('बागायत', [[126, 974], [216, 974], [216, 1006], [126, 1006]]), ('वरकस', [[126, 1054], [206, 1054], [206, 1084], [126, 1084]]), ('क्षेत्र', [[127, 891], [173, 891], [173, 929], [127, 929]]), ('फेरफार  क्र॰', [[145, 1959], [286, 1959], [286, 2004], [145, 2004]]), ('भुमापन क्रमांक व', [[156, 540], [378, 540], [378, 586], [156, 586]]), ('एकक', [[176, 896], [246, 896], [246, 926], [176, 926]]), ('पे', [[182, 1328], [222, 1328], [222, 1370], [182, 1370]]), ('ब', [[186, 1292], [230, 1292], [230, 1334], [186, 1334]]), ('एकसाल', [[191, 427], [297, 427], [297, 465], [191, 465]]), ('उपविभाग', [[195, 576], [322, 576], [322, 622], [195, 622]]), ('ख', [[224, 1336], [256, 1336], [256, 1368], [224, 1368]]), ('1/1', [[231, 625], [287, 625], [287, 661], [231, 661]]), ('नांव', [[255.77165594187537, 810.4291398546884], [302.5424526814298, 817.7019098637974], [297.2283440581246, 846.5708601453116], [250.4575473185702, 839.2980901362026]]), ('५', [[270, 948], [410, 948], [410, 1106], [270, 1106]]), ('हे.आर॰चौ॰मी॰ राईबाई कोंडू सोनावणे', [[280, 880], [740, 880], [740, 938], [280, 938]]), ('0', [[286, 1136], [312, 1136], [312, 1164], [286, 1164]]), ('0 .02 . 20', [[286, 1256], [402, 1256], [402, 1288], [286, 1288]]), ('0 .0२ . 2०', [[286, 1336], [400, 1336], [400, 1368], [286, 1368]]), ('0 .9९', [[286, 1380], [354, 1380], [354, 1410], [286, 1410]]), ('९० . 8०', [[316, 1136], [400, 1136], [400, 1168], [316, 1168]]), ('_(119),(344),(468),(796),(847),(869)', [[324, 1962], [860, 1962], [860, 2008], [324, 2008]]), ('', [[370, 1286], [400, 1286], [400, 1314], [370, 1314]]), ('तालुका', [[392, 426], [482, 426], [482, 468], [392, 468]]), ('भू- धारणा', [[418, 544], [540, 544], [540, 588], [418, 588]]), ('भोगवटादार वर्ग', [[420, 646], [624, 646], [624, 702], [420, 702]]), ('सोनावणे', [[444, 1560], [544, 1560], [544, 1604], [444, 1604]]), ('| यमुना काळू', [[463, 1281], [635, 1281], [635, 1333], [463, 1333]]), ('नावणे', [[468, 1640], [544, 1640], [544, 1682], [468, 1682]]), ('लड्कूबाई', [[481, 1315], [609, 1315], [609, 1380], [481, 1380]]), ('पुंडलिक कोंडू सोनावणे', [[482, 960], [756, 960], [756, 1016], [482, 1016]]), ('सिंधु कोंडू सोनावणे', [[482, 1197], [713, 1197], [713, 1254], [482, 1254]]), ('सुंदरीबाई काळू', [[483, 1434], [672, 1434], [672, 1492], [483, 1492]]), ('ताराबाई काळू सोनावणे', [[484, 1393], [757, 1393], [757, 1452], [484, 1452]]), ('गोपिका कोंडू सोनावणे', [[485, 923], [746, 923], [746, 975], [485, 975]]), ('गणपत कोंडू सोनावणे', [[485, 1043], [739, 1043], [739, 1095], [485, 1095]]), ('लक्ष्मी सदू पाटील', [[485, 1083], [693, 1083], [693, 1135], [485, 1135]]), ('इंदू कोंडू सोनावणे', [[485, 1120], [701, 1120], [701, 1173], [485, 1173]]), ('लक्ष्मण काळू सोनावणे', [[485, 1241], [743, 1241], [743, 1293], [485, 1293]]), ('सुरेश रामचंद्र सोनावणे', [[485, 1715], [746, 1715], [746, 1767], [485, 1767]]), ('लडकू कोंडू', [[486, 1000], [633, 1000], [633, 1057], [486, 1057]]), ('वसंत रामचंद्र सोनावणे', [[486, 1676], [744, 1676], [744, 1722], [486, 1722]]), ('वनीता वसंत पाटील', [[486, 1756], [714, 1756], [714, 1800], [486, 1800]]), ('रविंद्र रामचंद्र सोनावणे', [[486, 1796], [746, 1796], [746, 1842], [486, 1842]]), ('पंडित रामचंद्र सोनावणे', [[486, 1836], [752, 1836], [752, 1882], [486, 1882]]), ('नरेश कोंडू सोनावणे', [[487, 1161], [721, 1161], [721, 1213], [487, 1213]]), ('[ रामचंद्र काळू', [[489, 1599], [677, 1599], [677, 1649], [489, 1649]]), ('सिताबाई रामचंद्र', [[500, 1518], [696, 1518], [696, 1564], [500, 1564]]), ('-1', [[502, 702], [538, 702], [538, 730], [502, 730]]), ('भिवंडी', [[522, 416], [618, 416], [618, 462], [522, 462]]), ('पध्दती', [[538.6574839128131, 540.6437097820327], [626.9173586221851, 537.7203466907107], [625.3425160871869, 582.3562902179673], [537.0826413778149, 586.2796533092893]]), ('-सामाईक   क्षेत्र-', [[564, 1876], [748, 1876], [748, 1920], [564, 1920]]), ('काळू', [[602, 1328], [674, 1328], [674, 1372], [602, 1372]]), (' सोनावणे /', [[622, 1272], [758, 1272], [758, 1328], [622, 1328]]), ('जिल्हा', [[689, 417], [776, 417], [776, 467], [689, 467]]), ('अधिकार अभिलेख पत्रक', [[694, 266], [996, 266], [996, 312], [694, 312]]), ('३,५६ आणि ७', [[733, 345], [939, 345], [939, 395], [733, 395]]), ('गाव नमुना सात', [[750, 234], [954, 234], [954, 276], [750, 276]]), ('0ळब५', [[755, 1219], [1021, 1219], [1021, 1375], [755, 1375]]), ('0.90.80', [[766, 1608], [858, 1608], [858, 1638], [766, 1638]]), ('.90.80', [[785, 1883], [861, 1883], [861, 1919], [785, 1919]]), ('ठाणे', [[813, 415], [884, 415], [884, 466], [813, 466]]), ('( तयार करणे व सुस्थितीत ठेवणे', [[824, 298], [1234, 298], [1234, 357], [824, 357]]), ('आकार   पो॰ख॰', [[865, 799], [1052, 799], [1052, 852], [865, 852]]), ('0.', [[882, 1884], [908, 1884], [908, 1916], [882, 1916]]), ('.99', [[901, 1883], [943, 1883], [943, 1919], [901, 1919]]), ('७१२', [[918, 44], [972, 44], [972, 74], [918, 74]]), ('भोगवटादाराचे नांव', [[934, 536], [1169, 536], [1169, 586], [934, 586]]), (']', [[942, 358], [964, 358], [964, 390], [942, 390]]), ('0.02.', [[964, 1884], [1022, 1884], [1022, 1916], [964, 1916]]), ('.20', [[1017, 1883], [1059, 1883], [1059, 1919], [1017, 1919]]), ('फे.फा', [[1062, 802], [1152, 802], [1152, 848], [1062, 848]]), ('( 344 )', [[1065, 1289], [1149, 1289], [1149, 1327], [1065, 1327]]), ('( 248', [[1067, 1091], [1135, 1091], [1135, 1127], [1067, 1127]]), ('248', [[1081, 1211], [1135, 1211], [1135, 1247], [1081, 1247]]), ('344', [[1081, 1329], [1135, 1329], [1135, 1365], [1081, 1365]]), ('344 )', [[1082, 1450], [1148, 1450], [1148, 1482], [1082, 1482]]), ('880 )', [[1082, 1846], [1148, 1846], [1148, 1878], [1082, 1878]]), (')', [[1128, 1334], [1148, 1334], [1148, 1364], [1128, 1364]]), ('सीमा आणि भुमापन चिन्हे', [[1162, 1954], [1486, 1954], [1486, 2010], [1162, 2010]]), ('329', [[1182, 896], [1236, 896], [1236, 928], [1182, 928]]), ('इतर अधिकार', [[1193, 963], [1371, 963], [1371, 1013], [1193, 1013]]), ('कुळाचे', [[1193.5384615384614, 928.6923076923077], [1288.9493117733198, 922.7799949845339], [1287.4615384615386, 969.3076923076923], [1192.0506882266802, 974.2200050154661]]), ('अहवाल दिनांक', [[1228, 156], [1422, 156], [1422, 200], [1228, 200]]), (') नियम, १९७१ यातील नियम', [[1231, 303], [1604, 303], [1604, 356], [1231, 356]]), ('नाव', [[1287, 931], [1345, 931], [1345, 967], [1287, 967]]), ('खाते क्रमांक', [[1295, 801], [1461, 801], [1461, 850], [1295, 850]]), ('18/11/2020', [[1449, 158], [1614, 158], [1614, 201], [1449, 201]]), ('1/२', [[1592, 2130], [1630, 2130], [1630, 2158], [1592, 2158]])]\n",
            "[('11/18/2020', [[68, 38], [188, 38], [188, 68], [68, 68]]), ('७१२', [[918, 44], [972, 44], [972, 74], [918, 74]]), ('अहवाल दिनांक', [[1228, 156], [1422, 156], [1422, 200], [1228, 200]]), ('18/11/2020', [[1449, 158], [1614, 158], [1614, 201], [1449, 201]]), ('गाव नमुना सात', [[750, 234], [954, 234], [954, 276], [750, 276]]), ('अधिकार अभिलेख पत्रक', [[694, 266], [996, 266], [996, 312], [694, 312]]), ('[ महाराष्ट्र जमीन महसूल अधिकार अभिलेख आणि नोंदवह्या', [[105, 300], [830, 300], [830, 363], [105, 363]]), ('( तयार करणे व सुस्थितीत ठेवणे', [[824, 298], [1234, 298], [1234, 357], [824, 357]]), (') नियम, १९७१ यातील नियम', [[1231, 303], [1604, 303], [1604, 356], [1231, 356]]), ('३,५६ आणि ७', [[733, 345], [939, 345], [939, 395], [733, 395]]), (']', [[942, 358], [964, 358], [964, 390], [942, 390]]), ('गाव', [[92, 428], [142, 428], [142, 458], [92, 458]]), ('एकसाल', [[191, 427], [297, 427], [297, 465], [191, 465]]), ('तालुका', [[392, 426], [482, 426], [482, 468], [392, 468]]), ('भिवंडी', [[522, 416], [618, 416], [618, 462], [522, 462]]), ('जिल्हा', [[689, 417], [776, 417], [776, 467], [689, 467]]), ('ठाणे', [[813, 415], [884, 415], [884, 466], [813, 466]]), ('भुमापन क्रमांक व उपविभाग', [[107, 459], [457, 459], [457, 509], [107, 509]]), ('भुमापन क्रमांक व', [[156, 540], [378, 540], [378, 586], [156, 586]]), ('भू- धारणा', [[418, 544], [540, 544], [540, 588], [418, 588]]), ('पध्दती', [[538.6574839128131, 540.6437097820327], [626.9173586221851, 537.7203466907107], [625.3425160871869, 582.3562902179673], [537.0826413778149, 586.2796533092893]]), ('भोगवटादाराचे नांव', [[934, 536], [1169, 536], [1169, 586], [934, 586]]), ('उपविभाग', [[195, 576], [322, 576], [322, 622], [195, 622]]), ('1/1', [[231, 625], [287, 625], [287, 661], [231, 661]]), ('भोगवटादार वर्ग', [[420, 646], [624, 646], [624, 702], [420, 702]]), ('-1', [[502, 702], [538, 702], [538, 730], [502, 730]]), ('शेताचे स्थानिक', [[107, 809], [255, 809], [255, 847], [107, 847]]), ('नांव', [[255.77165594187537, 810.4291398546884], [302.5424526814298, 817.7019098637974], [297.2283440581246, 846.5708601453116], [250.4575473185702, 839.2980901362026]]), ('आकार   पो॰ख॰', [[865, 799], [1052, 799], [1052, 852], [865, 852]]), ('फे.फा', [[1062, 802], [1152, 802], [1152, 848], [1062, 848]]), ('खाते क्रमांक', [[1295, 801], [1461, 801], [1461, 850], [1295, 850]]), ('क्षेत्र', [[127, 891], [173, 891], [173, 929], [127, 929]]), ('एकक', [[176, 896], [246, 896], [246, 926], [176, 926]]), ('हे.आर॰चौ॰मी॰ राईबाई कोंडू सोनावणे', [[280, 880], [740, 880], [740, 938], [280, 938]]), ('329', [[1182, 896], [1236, 896], [1236, 928], [1182, 928]]), ('जिरायत', [[122, 926], [220, 926], [220, 968], [122, 968]]), ('गोपिका कोंडू सोनावणे', [[485, 923], [746, 923], [746, 975], [485, 975]]), ('कुळाचे', [[1193.5384615384614, 928.6923076923077], [1288.9493117733198, 922.7799949845339], [1287.4615384615386, 969.3076923076923], [1192.0506882266802, 974.2200050154661]]), ('५', [[270, 948], [410, 948], [410, 1106], [270, 1106]]), ('नाव', [[1287, 931], [1345, 931], [1345, 967], [1287, 967]]), ('बागायत', [[126, 974], [216, 974], [216, 1006], [126, 1006]]), ('पुंडलिक कोंडू सोनावणे', [[482, 960], [756, 960], [756, 1016], [482, 1016]]), ('इतर अधिकार', [[1193, 963], [1371, 963], [1371, 1013], [1193, 1013]]), ('तरी', [[122, 1002], [176, 1002], [176, 1048], [122, 1048]]), ('लडकू कोंडू', [[486, 1000], [633, 1000], [633, 1057], [486, 1057]]), ('वरकस', [[126, 1054], [206, 1054], [206, 1084], [126, 1084]]), ('गणपत कोंडू सोनावणे', [[485, 1043], [739, 1043], [739, 1095], [485, 1095]]), ('इतर', [[125, 1093], [185, 1093], [185, 1129], [125, 1129]]), ('लक्ष्मी सदू पाटील', [[485, 1083], [693, 1083], [693, 1135], [485, 1135]]), ('( 248', [[1067, 1091], [1135, 1091], [1135, 1127], [1067, 1127]]), ('एकुण _ क्षेत्र', [[121, 1127], [249, 1127], [249, 1177], [121, 1177]]), ('0', [[286, 1136], [312, 1136], [312, 1164], [286, 1164]]), ('९० . 8०', [[316, 1136], [400, 1136], [400, 1168], [316, 1168]]), ('इंदू कोंडू सोनावणे', [[485, 1120], [701, 1120], [701, 1173], [485, 1173]]), ('पोट-खराब ( लागवडीस', [[109, 1165], [375, 1165], [375, 1215], [109, 1215]]), ('नरेश कोंडू सोनावणे', [[487, 1161], [721, 1161], [721, 1213], [487, 1213]]), ('अयोग्य )', [[94, 1206], [195, 1206], [195, 1252], [94, 1252]]), ('सिंधु कोंडू सोनावणे', [[482, 1197], [713, 1197], [713, 1254], [482, 1254]]), ('0ळब५', [[755, 1219], [1021, 1219], [1021, 1375], [755, 1375]]), ('248', [[1081, 1211], [1135, 1211], [1135, 1247], [1081, 1247]]), ('वर्ग (अ)', [[121, 1243], [235, 1243], [235, 1295], [121, 1295]]), ('0 .02 . 20', [[286, 1256], [402, 1256], [402, 1288], [286, 1288]]), ('लक्ष्मण काळू सोनावणे', [[485, 1241], [743, 1241], [743, 1293], [485, 1293]]), ('वर्ग', [[119, 1281], [175, 1281], [175, 1333], [119, 1333]]), ('ब', [[186, 1292], [230, 1292], [230, 1334], [186, 1334]]), ('', [[370, 1286], [400, 1286], [400, 1314], [370, 1314]]), ('| यमुना काळू', [[463, 1281], [635, 1281], [635, 1333], [463, 1333]]), (' सोनावणे /', [[622, 1272], [758, 1272], [758, 1328], [622, 1328]]), ('( 344 )', [[1065, 1289], [1149, 1289], [1149, 1327], [1065, 1327]]), ('एकुण', [[110, 1334], [184, 1334], [184, 1380], [110, 1380]]), ('पे', [[182, 1328], [222, 1328], [222, 1370], [182, 1370]]), ('लड्कूबाई', [[481, 1315], [609, 1315], [609, 1380], [481, 1380]]), ('ख', [[224, 1336], [256, 1336], [256, 1368], [224, 1368]]), ('0 .0२ . 2०', [[286, 1336], [400, 1336], [400, 1368], [286, 1368]]), ('काळू', [[602, 1328], [674, 1328], [674, 1372], [602, 1372]]), ('344', [[1081, 1329], [1135, 1329], [1135, 1365], [1081, 1365]]), (')', [[1128, 1334], [1148, 1334], [1148, 1364], [1128, 1364]]), ('आकारणी', [[125, 1367], [239, 1367], [239, 1411], [125, 1411]]), ('0 .9९', [[286, 1380], [354, 1380], [354, 1410], [286, 1410]]), ('जुडी किंवा', [[106, 1407], [241, 1407], [241, 1458], [106, 1458]]), ('ताराबाई काळू सोनावणे', [[484, 1393], [757, 1393], [757, 1452], [484, 1452]]), ('विशेष आकारणी', [[93, 1445], [288, 1445], [288, 1498], [93, 1498]]), ('सुंदरीबाई काळू', [[483, 1434], [672, 1434], [672, 1492], [483, 1492]]), ('344 )', [[1082, 1450], [1148, 1450], [1148, 1482], [1082, 1482]]), ('सिताबाई रामचंद्र', [[500, 1518], [696, 1518], [696, 1564], [500, 1564]]), ('सोनावणे', [[444, 1560], [544, 1560], [544, 1604], [444, 1604]]), ('[ रामचंद्र काळू', [[489, 1599], [677, 1599], [677, 1649], [489, 1649]]), ('0.90.80', [[766, 1608], [858, 1608], [858, 1638], [766, 1638]]), ('नावणे', [[468, 1640], [544, 1640], [544, 1682], [468, 1682]]), ('वसंत रामचंद्र सोनावणे', [[486, 1676], [744, 1676], [744, 1722], [486, 1722]]), ('सुरेश रामचंद्र सोनावणे', [[485, 1715], [746, 1715], [746, 1767], [485, 1767]]), ('वनीता वसंत पाटील', [[486, 1756], [714, 1756], [714, 1800], [486, 1800]]), ('रविंद्र रामचंद्र सोनावणे', [[486, 1796], [746, 1796], [746, 1842], [486, 1842]]), ('पंडित रामचंद्र सोनावणे', [[486, 1836], [752, 1836], [752, 1882], [486, 1882]]), ('880 )', [[1082, 1846], [1148, 1846], [1148, 1878], [1082, 1878]]), ('-सामाईक   क्षेत्र-', [[564, 1876], [748, 1876], [748, 1920], [564, 1920]]), ('.90.80', [[785, 1883], [861, 1883], [861, 1919], [785, 1919]]), ('0.', [[882, 1884], [908, 1884], [908, 1916], [882, 1916]]), ('.99', [[901, 1883], [943, 1883], [943, 1919], [901, 1919]]), ('0.02.', [[964, 1884], [1022, 1884], [1022, 1916], [964, 1916]]), ('.20', [[1017, 1883], [1059, 1883], [1059, 1919], [1017, 1919]]), ('फेरफार  क्र॰', [[145, 1959], [286, 1959], [286, 2004], [145, 2004]]), ('_(119),(344),(468),(796),(847),(869)', [[324, 1962], [860, 1962], [860, 2008], [324, 2008]]), ('सीमा आणि भुमापन चिन्हे', [[1162, 1954], [1486, 1954], [1486, 2010], [1162, 2010]]), ('6ऐफ़ड  /२ँधबहरत.फ़ौ+ँधफ़1 ठद  0\"ँ2ू छ९712 _टँू8ड डफ़*', [[67, 2128], [709, 2128], [709, 2164], [67, 2164]]), ('1/२', [[1592, 2130], [1630, 2130], [1630, 2158], [1592, 2158]])]\n"
          ],
          "name": "stdout"
        }
      ]
    },
    {
      "cell_type": "markdown",
      "metadata": {
        "id": "F9i9bSbstXG7"
      },
      "source": [
        "Extracting data from sorted list"
      ]
    },
    {
      "cell_type": "code",
      "metadata": {
        "colab": {
          "base_uri": "https://localhost:8080/"
        },
        "id": "_zunCH1Sl6Pa",
        "outputId": "e263db59-4de4-4ae8-972b-8ed9f93976a1"
      },
      "source": [
        "village_name,zilla_name,taluka_name = '','',''\n",
        "for i in range(n-1):\n",
        "  if(sorted_text_dict[i][0]=='गाव'):\n",
        "    village_name = sorted_text_dict[i+1][0]\n",
        "  if(sorted_text_dict[i][0]=='तालुका'):\n",
        "    print('found')\n",
        "    taluka_name = sorted_text_dict[i+1][0]\n",
        "  if(sorted_text_dict[i][0]=='जिल्हा'):\n",
        "    zilla_name = sorted_text_dict[i+1][0]\n",
        "print(f\"village name: {village_name} ,taluka name: {taluka_name} ,zilla name: {zilla_name}\")"
      ],
      "execution_count": null,
      "outputs": [
        {
          "output_type": "stream",
          "text": [
            "found\n",
            "village name: एकसाल ,taluka name: भिवंडी ,zilla name: ठाणे\n"
          ],
          "name": "stdout"
        }
      ]
    },
    {
      "cell_type": "code",
      "metadata": {
        "id": "6ZWsaH38mxD4"
      },
      "source": [
        ""
      ],
      "execution_count": null,
      "outputs": []
    },
    {
      "cell_type": "markdown",
      "metadata": {
        "id": "GfkH_q5wuajJ"
      },
      "source": [
        "**Divesh's Algorithm**"
      ]
    },
    {
      "cell_type": "code",
      "metadata": {
        "colab": {
          "base_uri": "https://localhost:8080/"
        },
        "id": "40PDpjnpugag",
        "outputId": "2a8bb216-7429-4743-e4ea-516bd0a4bfda"
      },
      "source": [
        "# filtering dictionary\n",
        "text_dict = {}\n",
        "text_dict2 ={}\n",
        "for element in output:\n",
        "  text_dict[element[text_index]] = element[coordinate_index]\n",
        "  text_dict2[element[text_index]] = [element[coordinate_index][0], element[coordinate_index][2]]\n",
        "print(text_dict)"
      ],
      "execution_count": null,
      "outputs": [
        {
          "output_type": "stream",
          "text": [
            "{'11/17!2020': [[14, 8], [68, 8], [68, 22], [14, 22]], '७ १२': [[402, 10], [426, 10], [426, 26], [402, 26]], 'जिल्हा :': [[298.21114561800016, 22.422291236000337], [338.8614535721131, 29.9563638994289], [334.78885438199984, 49.57770876399967], [294.1385464278869, 42.0436361005711]], 'अंबिकापूर': [[54, 25], [113, 25], [113, 49], [54, 49]], 'गाव': [[24, 30], [48, 30], [48, 44], [24, 44]], 'तालुका ': [[162, 30], [202, 30], [202, 48], [162, 48]], 'खामगाव': [[210, 30], [258, 30], [258, 46], [210, 46]], 'बुलडाणा': [[342, 30], [392, 30], [392, 48], [342, 48]], 'उपविभाग : १०': [[90, 41], [173, 41], [173, 65], [90, 65]], 'गट क्रमाक': [[21, 43], [85, 43], [85, 65], [21, 65]], 'पजाबराव शकर पानझाडे': [[187, 80], [319, 80], [319, 104], [187, 104]], 'हे.आर.चौ॰मी': [[111, 81], [179, 81], [179, 103], [111, 103]], 'क्षेत्र एकक': [[32, 84], [84, 84], [84, 100], [32, 100]], '0.40.00': [[332, 84], [376, 84], [376, 100], [332, 100]], '0.41': [[384, 84], [410, 84], [410, 100], [384, 100]], '(1357)': [[464, 84], [510, 84], [510, 102], [464, 102]], '133. [255], 547': [[512, 84], [594, 84], [594, 102], [512, 102]], 'कुळाचे नाव': [[514, 97], [581, 97], [581, 121], [514, 121]], 'जिरायत': [[32, 100], [74, 100], [74, 118], [32, 118]], '0.98.00': [[112, 194], [154, 194], [154, 210], [112, 210]], '[ शे.युसुफ शे.हसन': [[187, 117], [287, 117], [287, 139], [187, 139]], 'इतर अधिकार': [[515, 117], [593, 117], [593, 139], [515, 139]], 'बागायत': [[32, 120], [74, 120], [74, 136], [32, 136]], '0.58.00': [[332, 158], [376, 158], [376, 174], [332, 174]], '0.59': [[384, 158], [412, 158], [412, 174], [384, 174]], '0.2500 ](2518': [[418, 120], [502, 120], [502, 138], [418, 138]], ' बोजा - राष्ट्रीयकृत बैँक गहाणा ( १६५१': [[520, 132], [710, 132], [710, 160], [520, 160]], 'तरी': [[32, 136], [54, 136], [54, 154], [32, 154]], 'शे जमीर ग़ुलाम नुर': [[187, 153], [289, 153], [289, 177], [187, 177]], 'वरकस': [[32, 158], [70, 158], [70, 172], [32, 172]], '0.25.00': [[112, 268], [154, 268], [154, 286], [112, 286]], '(302 )': [[468, 158], [506, 158], [506, 174], [468, 174]], 'बॅक औं बडोदा शाखा खामगांव ]( १६५१': [[520, 168], [712, 168], [712, 197], [520, 197]], 'इतर': [[32, 176], [58, 176], [58, 192], [32, 192]], 'एकण क्षेत्र': [[31, 191], [85, 191], [85, 213], [31, 213]], '[कडून ५००० रु कर्ज घेतले. ]( १६५१ )': [[521, 207], [699, 207], [699, 231], [521, 231]], 'पोट खराब (लागवडीस अयोग्य)': [[26, 209], [179, 209], [179, 232], [26, 232]], 'एक्कम घेणार शे.युसुफ शे हसन ]( १६५१ ': [[519, 223], [716, 223], [716, 251], [519, 251]], 'वर्ग (ओ)': [[32, 230], [70, 230], [70, 246], [32, 246]], 'वर्ग ब': [[32, 248], [70, 248], [70, 264], [32, 264]], 'राष्ट्रीयकृत बैँक गहाण': [[551, 389], [665, 389], [665, 411], [551, 411]], 'बोजा ': [[516, 390], [548, 390], [548, 408], [516, 408]], 'एकुण पो ख': [[26, 265], [89, 265], [89, 287], [26, 287]], 'बॅक ऑफ बडोदा शाखा खामगांत ( २१९६': [[519, 277], [717, 277], [717, 301], [519, 301]], 'आकारणी': [[26, 320], [76, 320], [76, 338], [26, 338]], ' िवा [': [[52.13701426866951, 298.46032711047206], [86.76971098192499, 304.6623606193169], [82.86298573133048, 324.53967288952794], [48.23028901807501, 318.3376393806831]], 'विशेष ': [[79, 301], [115, 301], [115, 323], [79, 323]], 'जुडी': [[29, 303], [55, 303], [55, 325], [29, 325]], 'कर्ज घेतले ता.२0/6/20१२ (': [[567, 315], [699, 315], [699, 337], [567, 337]], '10००० ': [[522, 320], [560, 320], [560, 336], [522, 336]], '2196': [[506, 374], [538, 374], [538, 390], [506, 390]], 'पंजाबराव ': [[586.1370142686695, 349.46032711047206], [638.9159216789504, 356.184182983552], [634.8629857313305, 375.53967288952794], [583.0840783210496, 367.815817016448]], 'रक्कम घेणार': [[522, 352], [588, 352], [588, 370], [522, 370]], 'शंकर पानझाडे': [[634, 354], [708, 354], [708, 372], [634, 372]], 'ईमहाभूमि': [[92, 380], [526, 380], [526, 508], [92, 508]], 'भूमिअभिलेख निर्णयात्': [[178, 386], [320, 386], [320, 414], [178, 414]], 'बॅक औफ बडोदा शाखा खामगांव ( २२९६': [[519, 405], [717, 405], [717, 429], [519, 429]], '४४००० रु कर्ज घेतले ता.16/12/2012': [[522, 444], [694, 444], [694, 462], [522, 462]], '229': [[506, 464], [530, 464], [530, 480], [506, 480]], 'रक्कम घेणार पंजाबराव शंकर पानझाडे': [[522, 480], [708, 480], [708, 498], [522, 498]], '2296': [[506, 500], [538, 500], [538, 516], [506, 516]]}\n"
          ],
          "name": "stdout"
        }
      ]
    },
    {
      "cell_type": "code",
      "metadata": {
        "colab": {
          "base_uri": "https://localhost:8080/"
        },
        "id": "-erT_94wuwlh",
        "outputId": "40181d09-f395-48ea-c3fe-488bcab1fe0a"
      },
      "source": [
        "# Creating wordlist\n",
        "word_list = list(text_dict2.items())\n",
        "word_list.sort(key=lambda pair: pair[1][0][1])\n",
        "for i in range(len(word_list)):\n",
        "  a = list(word_list[i])\n",
        "  a.append(True)\n",
        "  word_list[i] = a\n",
        "word_list"
      ],
      "execution_count": null,
      "outputs": [
        {
          "output_type": "execute_result",
          "data": {
            "text/plain": [
              "[['11/17!2020', [[14, 8], [68, 22]], True],\n",
              " ['७ १२', [[402, 10], [426, 26]], True],\n",
              " ['जिल्हा :',\n",
              "  [[298.21114561800016, 22.422291236000337],\n",
              "   [334.78885438199984, 49.57770876399967]],\n",
              "  True],\n",
              " ['अंबिकापूर', [[54, 25], [113, 49]], True],\n",
              " ['गाव', [[24, 30], [48, 44]], True],\n",
              " ['तालुका ', [[162, 30], [202, 48]], True],\n",
              " ['खामगाव', [[210, 30], [258, 46]], True],\n",
              " ['बुलडाणा', [[342, 30], [392, 48]], True],\n",
              " ['उपविभाग : १०', [[90, 41], [173, 65]], True],\n",
              " ['गट क्रमाक', [[21, 43], [85, 65]], True],\n",
              " ['पजाबराव शकर पानझाडे', [[187, 80], [319, 104]], True],\n",
              " ['हे.आर.चौ॰मी', [[111, 81], [179, 103]], True],\n",
              " ['क्षेत्र एकक', [[32, 84], [84, 100]], True],\n",
              " ['0.40.00', [[332, 84], [376, 100]], True],\n",
              " ['0.41', [[384, 84], [410, 100]], True],\n",
              " ['(1357)', [[464, 84], [510, 102]], True],\n",
              " ['133. [255], 547', [[512, 84], [594, 102]], True],\n",
              " ['कुळाचे नाव', [[514, 97], [581, 121]], True],\n",
              " ['जिरायत', [[32, 100], [74, 118]], True],\n",
              " ['[ शे.युसुफ शे.हसन', [[187, 117], [287, 139]], True],\n",
              " ['इतर अधिकार', [[515, 117], [593, 139]], True],\n",
              " ['बागायत', [[32, 120], [74, 136]], True],\n",
              " ['0.2500 ](2518', [[418, 120], [502, 138]], True],\n",
              " [' बोजा - राष्ट्रीयकृत बैँक गहाणा ( १६५१', [[520, 132], [710, 160]], True],\n",
              " ['तरी', [[32, 136], [54, 154]], True],\n",
              " ['शे जमीर ग़ुलाम नुर', [[187, 153], [289, 177]], True],\n",
              " ['0.58.00', [[332, 158], [376, 174]], True],\n",
              " ['0.59', [[384, 158], [412, 174]], True],\n",
              " ['वरकस', [[32, 158], [70, 172]], True],\n",
              " ['(302 )', [[468, 158], [506, 174]], True],\n",
              " ['बॅक औं बडोदा शाखा खामगांव ]( १६५१', [[520, 168], [712, 197]], True],\n",
              " ['इतर', [[32, 176], [58, 192]], True],\n",
              " ['एकण क्षेत्र', [[31, 191], [85, 213]], True],\n",
              " ['0.98.00', [[112, 194], [154, 210]], True],\n",
              " ['[कडून ५००० रु कर्ज घेतले. ]( १६५१ )', [[521, 207], [699, 231]], True],\n",
              " ['पोट खराब (लागवडीस अयोग्य)', [[26, 209], [179, 232]], True],\n",
              " ['एक्कम घेणार शे.युसुफ शे हसन ]( १६५१ ', [[519, 223], [716, 251]], True],\n",
              " ['वर्ग (ओ)', [[32, 230], [70, 246]], True],\n",
              " ['वर्ग ब', [[32, 248], [70, 264]], True],\n",
              " ['एकुण पो ख', [[26, 265], [89, 287]], True],\n",
              " ['0.25.00', [[112, 268], [154, 286]], True],\n",
              " ['बॅक ऑफ बडोदा शाखा खामगांत ( २१९६', [[519, 277], [717, 301]], True],\n",
              " [' िवा [',\n",
              "  [[52.13701426866951, 298.46032711047206],\n",
              "   [82.86298573133048, 324.53967288952794]],\n",
              "  True],\n",
              " ['विशेष ', [[79, 301], [115, 323]], True],\n",
              " ['जुडी', [[29, 303], [55, 325]], True],\n",
              " ['कर्ज घेतले ता.२0/6/20१२ (', [[567, 315], [699, 337]], True],\n",
              " ['आकारणी', [[26, 320], [76, 338]], True],\n",
              " ['10००० ', [[522, 320], [560, 336]], True],\n",
              " ['पंजाबराव ',\n",
              "  [[586.1370142686695, 349.46032711047206],\n",
              "   [634.8629857313305, 375.53967288952794]],\n",
              "  True],\n",
              " ['रक्कम घेणार', [[522, 352], [588, 370]], True],\n",
              " ['शंकर पानझाडे', [[634, 354], [708, 372]], True],\n",
              " ['2196', [[506, 374], [538, 390]], True],\n",
              " ['ईमहाभूमि', [[92, 380], [526, 508]], True],\n",
              " ['भूमिअभिलेख निर्णयात्', [[178, 386], [320, 414]], True],\n",
              " ['राष्ट्रीयकृत बैँक गहाण', [[551, 389], [665, 411]], True],\n",
              " ['बोजा ', [[516, 390], [548, 408]], True],\n",
              " ['बॅक औफ बडोदा शाखा खामगांव ( २२९६', [[519, 405], [717, 429]], True],\n",
              " ['४४००० रु कर्ज घेतले ता.16/12/2012', [[522, 444], [694, 462]], True],\n",
              " ['229', [[506, 464], [530, 480]], True],\n",
              " ['रक्कम घेणार पंजाबराव शंकर पानझाडे', [[522, 480], [708, 498]], True],\n",
              " ['2296', [[506, 500], [538, 516]], True]]"
            ]
          },
          "metadata": {
            "tags": []
          },
          "execution_count": 172
        }
      ]
    },
    {
      "cell_type": "code",
      "metadata": {
        "colab": {
          "base_uri": "https://localhost:8080/"
        },
        "id": "EFERlRULu3LN",
        "outputId": "0908d48f-452c-442f-b5e3-16f0af482135"
      },
      "source": [
        "# Page and line filtering\n",
        "page = []\n",
        "for i in range(len(word_list)):\n",
        "  line = []\n",
        "  element = word_list[i]\n",
        "  if element[-1] == True:\n",
        "    word = element[0]\n",
        "    y_left_top_main = element[1][0][1]\n",
        "    for ind in range(len(word_list)):\n",
        "      ele = word_list[ind]\n",
        "      if ele[-1] == True:\n",
        "        w = ele[0]\n",
        "        x_start = ele[1][0][0]\n",
        "        y_start = ele[1][0][1]\n",
        "        if abs(y_start - y_left_top_main) <= 13:\n",
        "          line.append(tuple([w, x_start]))\n",
        "          word_list[ind][-1] = False\n",
        "    word_list[i][-1] = False\n",
        "    page.append(line)\n",
        "print(page)"
      ],
      "execution_count": null,
      "outputs": [
        {
          "output_type": "stream",
          "text": [
            "[[('11/17!2020', 14), ('७ १२', 402)], [('जिल्हा :', 298.21114561800016), ('अंबिकापूर', 54), ('गाव', 24), ('तालुका ', 162), ('खामगाव', 210), ('बुलडाणा', 342)], [('उपविभाग : १०', 90), ('गट क्रमाक', 21)], [('पजाबराव शकर पानझाडे', 187), ('हे.आर.चौ॰मी', 111), ('क्षेत्र एकक', 32), ('0.40.00', 332), ('0.41', 384), ('(1357)', 464), ('133. [255], 547', 512)], [('कुळाचे नाव', 514), ('जिरायत', 32)], [('[ शे.युसुफ शे.हसन', 187), ('इतर अधिकार', 515), ('बागायत', 32), ('0.2500 ](2518', 418)], [(' बोजा - राष्ट्रीयकृत बैँक गहाणा ( १६५१', 520), ('तरी', 32)], [('शे जमीर ग़ुलाम नुर', 187), ('0.58.00', 332), ('0.59', 384), ('वरकस', 32), ('(302 )', 468)], [('बॅक औं बडोदा शाखा खामगांव ]( १६५१', 520), ('इतर', 32)], [('एकण क्षेत्र', 31), ('0.98.00', 112)], [('[कडून ५००० रु कर्ज घेतले. ]( १६५१ )', 521), ('पोट खराब (लागवडीस अयोग्य)', 26)], [('एक्कम घेणार शे.युसुफ शे हसन ]( १६५१ ', 519), ('वर्ग (ओ)', 32)], [('वर्ग ब', 32)], [('एकुण पो ख', 26), ('0.25.00', 112), ('बॅक ऑफ बडोदा शाखा खामगांत ( २१९६', 519)], [(' िवा [', 52.13701426866951), ('विशेष ', 79), ('जुडी', 29)], [('कर्ज घेतले ता.२0/6/20१२ (', 567), ('आकारणी', 26), ('10००० ', 522)], [('पंजाबराव ', 586.1370142686695), ('रक्कम घेणार', 522), ('शंकर पानझाडे', 634)], [('2196', 506), ('ईमहाभूमि', 92), ('भूमिअभिलेख निर्णयात्', 178)], [('राष्ट्रीयकृत बैँक गहाण', 551), ('बोजा ', 516)], [('बॅक औफ बडोदा शाखा खामगांव ( २२९६', 519)], [('४४००० रु कर्ज घेतले ता.16/12/2012', 522)], [('229', 506)], [('रक्कम घेणार पंजाबराव शंकर पानझाडे', 522)], [('2296', 506)]]\n"
          ],
          "name": "stdout"
        }
      ]
    },
    {
      "cell_type": "code",
      "metadata": {
        "colab": {
          "base_uri": "https://localhost:8080/"
        },
        "id": "dUXTCm5Yu9f6",
        "outputId": "dd4eefe4-6194-4820-a35c-79d2eed61cb4"
      },
      "source": [
        "# Text sorting in line\n",
        "for p in page:\n",
        "  p.sort(key= lambda pair: pair[1])\n",
        "print(page)"
      ],
      "execution_count": null,
      "outputs": [
        {
          "output_type": "stream",
          "text": [
            "[[('11/17!2020', 14), ('७ १२', 402)], [('गाव', 24), ('अंबिकापूर', 54), ('तालुका ', 162), ('खामगाव', 210), ('जिल्हा :', 298.21114561800016), ('बुलडाणा', 342)], [('गट क्रमाक', 21), ('उपविभाग : १०', 90)], [('क्षेत्र एकक', 32), ('हे.आर.चौ॰मी', 111), ('पजाबराव शकर पानझाडे', 187), ('0.40.00', 332), ('0.41', 384), ('(1357)', 464), ('133. [255], 547', 512)], [('जिरायत', 32), ('कुळाचे नाव', 514)], [('बागायत', 32), ('[ शे.युसुफ शे.हसन', 187), ('0.2500 ](2518', 418), ('इतर अधिकार', 515)], [('तरी', 32), (' बोजा - राष्ट्रीयकृत बैँक गहाणा ( १६५१', 520)], [('वरकस', 32), ('शे जमीर ग़ुलाम नुर', 187), ('0.58.00', 332), ('0.59', 384), ('(302 )', 468)], [('इतर', 32), ('बॅक औं बडोदा शाखा खामगांव ]( १६५१', 520)], [('एकण क्षेत्र', 31), ('0.98.00', 112)], [('पोट खराब (लागवडीस अयोग्य)', 26), ('[कडून ५००० रु कर्ज घेतले. ]( १६५१ )', 521)], [('वर्ग (ओ)', 32), ('एक्कम घेणार शे.युसुफ शे हसन ]( १६५१ ', 519)], [('वर्ग ब', 32)], [('एकुण पो ख', 26), ('0.25.00', 112), ('बॅक ऑफ बडोदा शाखा खामगांत ( २१९६', 519)], [('जुडी', 29), (' िवा [', 52.13701426866951), ('विशेष ', 79)], [('आकारणी', 26), ('10००० ', 522), ('कर्ज घेतले ता.२0/6/20१२ (', 567)], [('रक्कम घेणार', 522), ('पंजाबराव ', 586.1370142686695), ('शंकर पानझाडे', 634)], [('ईमहाभूमि', 92), ('भूमिअभिलेख निर्णयात्', 178), ('2196', 506)], [('बोजा ', 516), ('राष्ट्रीयकृत बैँक गहाण', 551)], [('बॅक औफ बडोदा शाखा खामगांव ( २२९६', 519)], [('४४००० रु कर्ज घेतले ता.16/12/2012', 522)], [('229', 506)], [('रक्कम घेणार पंजाबराव शंकर पानझाडे', 522)], [('2296', 506)]]\n"
          ],
          "name": "stdout"
        }
      ]
    },
    {
      "cell_type": "code",
      "metadata": {
        "colab": {
          "base_uri": "https://localhost:8080/"
        },
        "id": "QaKxG_qLvCea",
        "outputId": "a5a3bee3-ec9c-4bb3-c112-1cea029d973f"
      },
      "source": [
        "# Removing redundancy\n",
        "final_page = []\n",
        "for p in page:\n",
        "  line = []\n",
        "  for i in p:\n",
        "    line.append(i[0])\n",
        "  final_page.append(line)\n",
        "final_page"
      ],
      "execution_count": null,
      "outputs": [
        {
          "output_type": "execute_result",
          "data": {
            "text/plain": [
              "[['11/17!2020', '७ १२'],\n",
              " ['गाव', 'अंबिकापूर', 'तालुका ', 'खामगाव', 'जिल्हा :', 'बुलडाणा'],\n",
              " ['गट क्रमाक', 'उपविभाग : १०'],\n",
              " ['क्षेत्र एकक',\n",
              "  'हे.आर.चौ॰मी',\n",
              "  'पजाबराव शकर पानझाडे',\n",
              "  '0.40.00',\n",
              "  '0.41',\n",
              "  '(1357)',\n",
              "  '133. [255], 547'],\n",
              " ['जिरायत', 'कुळाचे नाव'],\n",
              " ['बागायत', '[ शे.युसुफ शे.हसन', '0.2500 ](2518', 'इतर अधिकार'],\n",
              " ['तरी', ' बोजा - राष्ट्रीयकृत बैँक गहाणा ( १६५१'],\n",
              " ['वरकस', 'शे जमीर ग़ुलाम नुर', '0.58.00', '0.59', '(302 )'],\n",
              " ['इतर', 'बॅक औं बडोदा शाखा खामगांव ]( १६५१'],\n",
              " ['एकण क्षेत्र', '0.98.00'],\n",
              " ['पोट खराब (लागवडीस अयोग्य)', '[कडून ५००० रु कर्ज घेतले. ]( १६५१ )'],\n",
              " ['वर्ग (ओ)', 'एक्कम घेणार शे.युसुफ शे हसन ]( १६५१ '],\n",
              " ['वर्ग ब'],\n",
              " ['एकुण पो ख', '0.25.00', 'बॅक ऑफ बडोदा शाखा खामगांत ( २१९६'],\n",
              " ['जुडी', ' िवा [', 'विशेष '],\n",
              " ['आकारणी', '10००० ', 'कर्ज घेतले ता.२0/6/20१२ ('],\n",
              " ['रक्कम घेणार', 'पंजाबराव ', 'शंकर पानझाडे'],\n",
              " ['ईमहाभूमि', 'भूमिअभिलेख निर्णयात्', '2196'],\n",
              " ['बोजा ', 'राष्ट्रीयकृत बैँक गहाण'],\n",
              " ['बॅक औफ बडोदा शाखा खामगांव ( २२९६'],\n",
              " ['४४००० रु कर्ज घेतले ता.16/12/2012'],\n",
              " ['229'],\n",
              " ['रक्कम घेणार पंजाबराव शंकर पानझाडे'],\n",
              " ['2296']]"
            ]
          },
          "metadata": {
            "tags": []
          },
          "execution_count": 175
        }
      ]
    },
    {
      "cell_type": "code",
      "metadata": {
        "id": "KaSCXbUIvteF"
      },
      "source": [
        "import pandas as pd\n",
        "df = pd.DataFrame(final_page)\n",
        "df.to_csv('result.csv')"
      ],
      "execution_count": null,
      "outputs": []
    },
    {
      "cell_type": "code",
      "metadata": {
        "id": "QnUJpOfkxcvz"
      },
      "source": [
        ""
      ],
      "execution_count": null,
      "outputs": []
    }
  ]
}